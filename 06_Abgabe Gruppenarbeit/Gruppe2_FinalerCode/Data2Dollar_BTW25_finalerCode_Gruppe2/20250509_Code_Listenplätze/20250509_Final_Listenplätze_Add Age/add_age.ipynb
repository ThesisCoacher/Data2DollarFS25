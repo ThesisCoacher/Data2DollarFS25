{
 "cells": [
  {
   "cell_type": "code",
   "execution_count": null,
   "id": "d5da58a0-5379-47fc-a846-50bbb4f89912",
   "metadata": {},
   "outputs": [],
   "source": [
    "import pandas as pd\n",
    "from datetime import datetime\n",
    "\n",
    "\n",
    "\n",
    "# CSV-Datei einlesen\n",
    "df = pd.read_csv(\"deine_datei.csv\")  # ersetze mit dem Pfad zur Datei\n",
    "\n",
    "# Annahme: Die Spalte mit Geburtsjahren heißt 'Jahr'\n",
    "# Neue Spalte 'Alter' berechnen\n",
    "df[\"Alter\"] = 2024 - df[\"Jahr\"]\n",
    "\n",
    "# Neue CSV speichern\n",
    "df.to_csv(\"deine_datei_mit_alter.csv\", index=False)\n"
   ]
  }
 ],
 "metadata": {
  "kernelspec": {
   "display_name": "Python [conda env:base] *",
   "language": "python",
   "name": "conda-base-py"
  },
  "language_info": {
   "codemirror_mode": {
    "name": "ipython",
    "version": 3
   },
   "file_extension": ".py",
   "mimetype": "text/x-python",
   "name": "python",
   "nbconvert_exporter": "python",
   "pygments_lexer": "ipython3",
   "version": "3.12.2"
  }
 },
 "nbformat": 4,
 "nbformat_minor": 5
}
