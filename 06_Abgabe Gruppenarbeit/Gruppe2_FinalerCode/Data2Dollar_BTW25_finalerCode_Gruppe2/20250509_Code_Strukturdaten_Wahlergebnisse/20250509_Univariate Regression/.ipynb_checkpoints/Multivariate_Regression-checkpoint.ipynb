{
 "cells": [
  {
   "cell_type": "code",
   "execution_count": 258,
   "id": "a201b546-f002-4b47-a2d1-719990722a0b",
   "metadata": {},
   "outputs": [],
   "source": [
    "import pandas as pd\n",
    "import numpy as np\n",
    "import matplotlib.pyplot as plt\n",
    "import seaborn as sns\n",
    "from sklearn.linear_model import LinearRegression\n",
    "from sklearn.preprocessing import StandardScaler\n",
    "from sklearn.model_selection import train_test_split\n",
    "import statsmodels.api as sm"
   ]
  },
  {
   "cell_type": "code",
   "execution_count": 260,
   "id": "bf17cc00-4204-45a1-88ec-3b8c3f16b2dd",
   "metadata": {},
   "outputs": [],
   "source": [
    "# CSV-Dateien einlesen\n",
    "# Strukturdaten\n",
    "with open('bundesland_strukturdaten.csv', encoding='utf-8', errors='replace') as f:\n",
    "    struktur_df = pd.read_csv(f)\n",
    "\n",
    "# Wahldaten\n",
    "with open('wahlergebnisse_with_general_data.csv', encoding='utf-8', errors='replace') as f:\n",
    "    wahl_df = pd.read_csv(f)"
   ]
  },
  {
   "cell_type": "code",
   "execution_count": 262,
   "id": "9d1f314a-ecfc-44bd-a65c-4c8ebaa951a9",
   "metadata": {},
   "outputs": [],
   "source": [
    "wahl_df.rename(columns={\n",
    "    'Gr�ne_Zweitstimmen_percent': 'Grüne_Zweitstimmen_percent',\n",
    "    'Gr�ne_Erststimmen_percent': 'Grüne_Erststimmen_percent'\n",
    "}, inplace=True)"
   ]
  },
  {
   "cell_type": "code",
   "execution_count": 264,
   "id": "c11d6dec-bc40-4fd2-9046-80286951e961",
   "metadata": {},
   "outputs": [],
   "source": [
    "wahl_df['Bundesland'] = wahl_df['Bundesland'].replace({\n",
    "    'Baden-W�rttemberg': 'Baden-Württemberg',\n",
    "    'Th�ringen': 'Thüringen'\n",
    "})"
   ]
  },
  {
   "cell_type": "code",
   "execution_count": 266,
   "id": "3b367e01-e86b-4bc5-a25f-0aec5ba00bb5",
   "metadata": {},
   "outputs": [],
   "source": [
    "struktur_df['Bundesland'] = struktur_df['Bundesland'].replace({\n",
    "    'Baden_Wuerttemberg': 'Baden-Württemberg',\n",
    "    'Nordrhein_Westfalen': 'Nordrhein-Westfalen',\n",
    "    'Sachsen_Anhalt': 'Sachsen-Anhalt',\n",
    "    'Schleswig_Holstein': 'Schleswig-Holstein',\n",
    "    'Rheinland_Pfalz': 'Rheinland-Pfalz',\n",
    "    'Mecklenburg_Vorpommern': 'Mecklenburg-Vorpommern',\n",
    "    'Thueringen': 'Thüringen'\n",
    "})"
   ]
  },
  {
   "cell_type": "code",
   "execution_count": 268,
   "id": "ce08680f-0949-4d8d-bf1d-89bcf1172c41",
   "metadata": {},
   "outputs": [
    {
     "name": "stdout",
     "output_type": "stream",
     "text": [
      "['Bundesland', 'Anzahl Gemeinden', 'Fl�che km2', 'Bev�lkerung in Tsd', 'davon Deutsche in Tsd', 'Ausl�nder*innenanteil', 'Bev�lkerungsdichte je km2', 'Geburtensaldo', 'Wanderungssaldo', 'Alter unter 16', 'Alter 16-17', 'Alter 18-24', 'Alter 25-34', 'Alter 35-59', 'Alter 60-74', 'Alter �ber 75', 'Bodenfl�che Siedlung und Verkehr', 'Bodenfl�che Vegetation & Gew�sser', 'Fertiggestellte Wohnungen 2021 je Tsd Einwohner*innen', 'Bestand an Wohnungen 2021 je Tsd Einwohner*innen', 'Wohnfl�che je Wohnnung 2021', 'Wohnfl�che 2021 je Tsd Einwohner*innen', 'PKW insgesamt je Tsd Einwohner*innen', 'PKW Elektro oder Hybrid', 'Unternehmen 2021 je Tsd Einwohner*innen', 'Handwerksunternehmen 2021 je Tsd Einwohner*innen', 'Schulabg�nger*innen beruflicher Schulen 2022 je Tsd Einwohner*innen', 'Schulabg�nger*innen insgesamt ohne Externe je Tsd Einwohner*innen', 'Schulabg�nger*innen ohne Hauptschulabschluss', 'Schulabg�nger*innen mit Hauptschulabschluss', 'Schulabg�nger*innen mit Realschulabschluss', 'Schulabg�nger*innen mit allgemeiner und Fachhochschulreife', 'Quote betreute Kinder unter 3 Jahre', 'Quote betreute Kinder 3-5 Jahre', 'Verf�gbares Einkommen der privaten Haushalte 2021 EUR je Einwohner*in', 'BIP je Einwohner*in 2021', 'Sozialversicherungspflichtig je Tsd Einwohner*innen', 'Anteil Sozialversicherungspflichtiger in Land-, Forstwirtschaft & Fisherei', 'Anteil Sozialversicherungspflichtiger im produzierenden Gewerbe', 'Anteil Sozialversicherungspflichtiger im Handel, Gastgewerbe, Verkehr', 'Anteil Sozialversicherungspflichtige �ffentliche und private Dienstleister', 'Anteil Sozialversicherungspflichtige �brige Dienstleister', 'Empf�nger*innen Leistungen SGB II je Tsd Einwohner*innen', 'Anteil SGB II Empf�nger*innen nichterwerbsf�hige Hilfebed�rftige', 'Anteil SGB II Empf�nger*innen Ausl�nder*innen', 'Arbeitslosenquote insgesamt', 'Arbeitslosenquote M�nner', 'Arbeitslosenquote Frauen', 'Arbeitslosenquote 15-24', 'Arbeitslosenquote 55-64']\n",
      "['Bundesland', 'Wahlberechtigte', 'W�hlende_total', 'W�hlende_percent', 'Ung�ltige_Erststimmen_total', 'Ung�ltige_Erststimmen_percent', 'Ung�ltige_Zweitstimmen_total', 'Ung�ltige_Zweitstimmen_percent', 'G�ltige_Erststimmen_total', 'G�ltige_Erststimmen_percent', 'G�ltige_Zweitstimmen_total', 'G�ltige_Zweitstimmen_percent', 'CDU/CSU_Erststimmen_total', 'CDU/CSU_Erststimmen_percent', 'CDU/CSU_Zweitstimmen_total', 'CDU/CSU_Zweitstimmen_percent', 'SPD_Erststimmen_total', 'SPD_Erststimmen_percent', 'SPD_Zweitstimmen_total', 'SPD_Zweitstimmen_percent', 'Gr�ne_Erststimmen_total', 'Grüne_Erststimmen_percent', 'Gr�ne_Zweitstimmen_total', 'Grüne_Zweitstimmen_percent', 'AfD_Erststimmen_total', 'AfD_Erststimmen_percent', 'AfD_Zweitstimmen_total', 'AfD_Zweitstimmen_percent', 'Die Linke_Erststimmen_total', 'Die Linke_Erststimmen_percent', 'Die Linke_Zweitstimmen_total', 'Die Linke_Zweitstimmen_percent', 'BSW_Erststimmen_total', 'BSW_Erststimmen_percent', 'BSW_Zweitstimmen_total', 'BSW_Zweitstimmen_percent', 'FDP_Erststimmen_total', 'FDP_Erststimmen_percent', 'FDP_Zweitstimmen_total', 'FDP_Zweitstimmen_percent']\n"
     ]
    }
   ],
   "source": [
    "print(struktur_df.columns.tolist())\n",
    "print(wahl_df.columns.tolist())"
   ]
  },
  {
   "cell_type": "code",
   "execution_count": 270,
   "id": "856ec7a7-75d2-44fa-a098-1da963dfd0fb",
   "metadata": {},
   "outputs": [],
   "source": [
    "struktur_rename_map = {\n",
    "    'Fl�che km2': 'Fläche km2',\n",
    "    'Bev�lkerung in Tsd': 'Bevölkerung in Tsd',\n",
    "    'Ausl�nder*innenanteil': 'Ausländer*innenanteil',\n",
    "    'Bev�lkerungsdichte je km2': 'Bevölkerungsdichte je km2',\n",
    "    'Alter �ber 75': 'Alter über 75',\n",
    "    'Bodenfl�che Siedlung und Verkehr': 'Bodenfläche Siedlung und Verkehr',\n",
    "    'Bodenfl�che Vegetation & Gew�sser': 'Bodenfläche Vegetation & Gewässer',\n",
    "    'Wohnfl�che je Wohnnung 2021': 'Wohnfläche je Wohnung 2021',\n",
    "    'Wohnfl�che 2021 je Tsd Einwohner*innen': 'Wohnfläche 2021 je Tsd Einwohner*innen',\n",
    "    'Empf�nger*innen Leistungen SGB II je Tsd Einwohner*innen': 'Empfänger*innen Leistungen SGB II je Tsd Einwohner*innen',\n",
    "    'Anteil SGB II Empf�nger*innen nichterwerbsf�hige Hilfebed�rftige': 'Anteil SGB II Empfänger*innen nichterwerbsfähige Hilfebedürftige',\n",
    "    'Anteil SGB II Empf�nger*innen Ausl�nder*innen': 'Anteil SGB II Empfänger*innen Ausländer*innen',\n",
    "    'Arbeitslosenquote M�nner': 'Arbeitslosenquote Männer',\n",
    "    'Anteil Sozialversicherungspflichtige �ffentliche und private Dienstleister': 'Anteil Sozialversicherungspflichtige öffentliche und private Dienstleister',\n",
    "    'Anteil Sozialversicherungspflichtige �brige Dienstleister': 'Anteil Sozialversicherungspflichtige übrige Dienstleister',\n",
    "    'Schulabg�nger*innen beruflicher Schulen 2022 je Tsd Einwohner*innen': 'Schulabgänger*innen beruflicher Schulen 2022 je Tsd Einwohner*innen',\n",
    "    'Schulabg�nger*innen insgesamt ohne Externe je Tsd Einwohner*innen': 'Schulabgänger*innen insgesamt ohne Externe je Tsd Einwohner*innen',\n",
    "    'Schulabg�nger*innen ohne Hauptschulabschluss': 'Schulabgänger*innen ohne Hauptschulabschluss',\n",
    "    'Schulabg�nger*innen mit Hauptschulabschluss': 'Schulabgänger*innen mit Hauptschulabschluss',\n",
    "    'Schulabg�nger*innen mit Realschulabschluss': 'Schulabgänger*innen mit Realschulabschluss',\n",
    "    'Schulabg�nger*innen mit allgemeiner und Fachhochschulreife': 'Schulabgänger*innen mit allgemeiner und Fachhochschulreife',\n",
    "    'Verf�gbares Einkommen der privaten Haushalte 2021 EUR je Einwohner*in': 'Verfügbares Einkommen der privaten Haushalte 2021 EUR je Einwohner*in'\n",
    "}\n",
    "\n",
    "struktur_df.rename(columns=struktur_rename_map, inplace=True)"
   ]
  },
  {
   "cell_type": "code",
   "execution_count": 272,
   "id": "5134afad-0752-4b8a-b096-3cb718eacfcd",
   "metadata": {},
   "outputs": [
    {
     "name": "stdout",
     "output_type": "stream",
     "text": [
      "['Bundesland', 'Anzahl Gemeinden', 'Fläche km2', 'Bevölkerung in Tsd', 'davon Deutsche in Tsd', 'Ausländer*innenanteil', 'Bevölkerungsdichte je km2', 'Geburtensaldo', 'Wanderungssaldo', 'Alter unter 16', 'Alter 16-17', 'Alter 18-24', 'Alter 25-34', 'Alter 35-59', 'Alter 60-74', 'Alter über 75', 'Bodenfläche Siedlung und Verkehr', 'Bodenfläche Vegetation & Gewässer', 'Fertiggestellte Wohnungen 2021 je Tsd Einwohner*innen', 'Bestand an Wohnungen 2021 je Tsd Einwohner*innen', 'Wohnfläche je Wohnung 2021', 'Wohnfläche 2021 je Tsd Einwohner*innen', 'PKW insgesamt je Tsd Einwohner*innen', 'PKW Elektro oder Hybrid', 'Unternehmen 2021 je Tsd Einwohner*innen', 'Handwerksunternehmen 2021 je Tsd Einwohner*innen', 'Schulabgänger*innen beruflicher Schulen 2022 je Tsd Einwohner*innen', 'Schulabgänger*innen insgesamt ohne Externe je Tsd Einwohner*innen', 'Schulabgänger*innen ohne Hauptschulabschluss', 'Schulabgänger*innen mit Hauptschulabschluss', 'Schulabgänger*innen mit Realschulabschluss', 'Schulabgänger*innen mit allgemeiner und Fachhochschulreife', 'Quote betreute Kinder unter 3 Jahre', 'Quote betreute Kinder 3-5 Jahre', 'Verfügbares Einkommen der privaten Haushalte 2021 EUR je Einwohner*in', 'BIP je Einwohner*in 2021', 'Sozialversicherungspflichtig je Tsd Einwohner*innen', 'Anteil Sozialversicherungspflichtiger in Land-, Forstwirtschaft & Fisherei', 'Anteil Sozialversicherungspflichtiger im produzierenden Gewerbe', 'Anteil Sozialversicherungspflichtiger im Handel, Gastgewerbe, Verkehr', 'Anteil Sozialversicherungspflichtige öffentliche und private Dienstleister', 'Anteil Sozialversicherungspflichtige übrige Dienstleister', 'Empfänger*innen Leistungen SGB II je Tsd Einwohner*innen', 'Anteil SGB II Empfänger*innen nichterwerbsfähige Hilfebedürftige', 'Anteil SGB II Empfänger*innen Ausländer*innen', 'Arbeitslosenquote insgesamt', 'Arbeitslosenquote Männer', 'Arbeitslosenquote Frauen', 'Arbeitslosenquote 15-24', 'Arbeitslosenquote 55-64']\n",
      "['Bundesland', 'Wahlberechtigte', 'W�hlende_total', 'W�hlende_percent', 'Ung�ltige_Erststimmen_total', 'Ung�ltige_Erststimmen_percent', 'Ung�ltige_Zweitstimmen_total', 'Ung�ltige_Zweitstimmen_percent', 'G�ltige_Erststimmen_total', 'G�ltige_Erststimmen_percent', 'G�ltige_Zweitstimmen_total', 'G�ltige_Zweitstimmen_percent', 'CDU/CSU_Erststimmen_total', 'CDU/CSU_Erststimmen_percent', 'CDU/CSU_Zweitstimmen_total', 'CDU/CSU_Zweitstimmen_percent', 'SPD_Erststimmen_total', 'SPD_Erststimmen_percent', 'SPD_Zweitstimmen_total', 'SPD_Zweitstimmen_percent', 'Gr�ne_Erststimmen_total', 'Grüne_Erststimmen_percent', 'Gr�ne_Zweitstimmen_total', 'Grüne_Zweitstimmen_percent', 'AfD_Erststimmen_total', 'AfD_Erststimmen_percent', 'AfD_Zweitstimmen_total', 'AfD_Zweitstimmen_percent', 'Die Linke_Erststimmen_total', 'Die Linke_Erststimmen_percent', 'Die Linke_Zweitstimmen_total', 'Die Linke_Zweitstimmen_percent', 'BSW_Erststimmen_total', 'BSW_Erststimmen_percent', 'BSW_Zweitstimmen_total', 'BSW_Zweitstimmen_percent', 'FDP_Erststimmen_total', 'FDP_Erststimmen_percent', 'FDP_Zweitstimmen_total', 'FDP_Zweitstimmen_percent']\n"
     ]
    }
   ],
   "source": [
    "print(struktur_df.columns.tolist())\n",
    "print(wahl_df.columns.tolist())"
   ]
  },
  {
   "cell_type": "code",
   "execution_count": 274,
   "id": "086f7281-6776-4d79-a623-de34a7b5e83f",
   "metadata": {},
   "outputs": [],
   "source": [
    "wahl_rename_map = {\n",
    "    'W�hlende_total': 'Wählende_total',\n",
    "    'W�hlende_percent': 'Wählende_percent',\n",
    "    'Ung�ltige_Erststimmen_total': 'Ungültige_Erststimmen_total',\n",
    "    'Ung�ltige_Erststimmen_percent': 'Ungültige_Erststimmen_percent',\n",
    "    'Ung�ltige_Zweitstimmen_total': 'Ungültige_Zweitstimmen_total',\n",
    "    'Ung�ltige_Zweitstimmen_percent': 'Ungültige_Zweitstimmen_percent',\n",
    "    'G�ltige_Erststimmen_total': 'Gültige_Erststimmen_total',\n",
    "    'G�ltige_Erststimmen_percent': 'Gültige_Erststimmen_percent',\n",
    "    'G�ltige_Zweitstimmen_total': 'Gültige_Zweitstimmen_total',\n",
    "    'G�ltige_Zweitstimmen_percent': 'Gültige_Zweitstimmen_percent',\n",
    "    'Gr�ne_Erststimmen_total': 'Grüne_Erststimmen_total',\n",
    "    'Gr�ne_Zweitstimmen_total': 'Grüne_Zweitstimmen_total'\n",
    "}\n",
    "\n",
    "wahl_df.rename(columns=wahl_rename_map, inplace=True)"
   ]
  },
  {
   "cell_type": "code",
   "execution_count": 276,
   "id": "17a26bb8-b284-46a5-b30d-c4251b7c7e8a",
   "metadata": {},
   "outputs": [
    {
     "name": "stdout",
     "output_type": "stream",
     "text": [
      "[]\n"
     ]
    }
   ],
   "source": [
    "print([col for col in wahl_df.columns if '�' in col])"
   ]
  },
  {
   "cell_type": "code",
   "execution_count": 278,
   "id": "5b8b1fcd-7d6a-40bd-b8dd-70caa01c3379",
   "metadata": {},
   "outputs": [
    {
     "name": "stdout",
     "output_type": "stream",
     "text": [
      "['Baden-W�rttemberg' 'Nordrhein-Westfalen' 'Sachsen-Anhalt' 'Berlin'\n",
      " 'Schleswig-Holstein' 'Saarland' 'Hamburg' 'Bayern' 'Hessen'\n",
      " 'Rheinland-Pfalz' 'Brandenburg' 'Bremen' 'Niedersachsen'\n",
      " 'Mecklenburg-Vorpommern' 'Sachsen' 'Th�ringen']\n",
      "['Baden-Württemberg' 'Nordrhein-Westfalen' 'Sachsen-Anhalt' 'Berlin'\n",
      " 'Schleswig-Holstein' 'Saarland' 'Hamburg' 'Bayern' 'Hessen'\n",
      " 'Rheinland-Pfalz' 'Brandenburg' 'Bremen' 'Niedersachsen'\n",
      " 'Mecklenburg-Vorpommern' 'Sachsen' 'Thüringen']\n"
     ]
    }
   ],
   "source": [
    "print(struktur_df['Bundesland'].unique())\n",
    "print(wahl_df['Bundesland'].unique())"
   ]
  },
  {
   "cell_type": "code",
   "execution_count": 280,
   "id": "3740a998-aa3d-4d2d-8987-f8bf4859d36c",
   "metadata": {},
   "outputs": [
    {
     "name": "stdout",
     "output_type": "stream",
     "text": [
      "(14, 89)\n"
     ]
    }
   ],
   "source": [
    "merged_df = pd.merge(struktur_df, wahl_df, on='Bundesland')\n",
    "print(merged_df.shape)  # Sollte (16, X) zurückgeben"
   ]
  },
  {
   "cell_type": "code",
   "execution_count": 290,
   "id": "7cf97f8e-8519-4c0a-97c4-292f042c8468",
   "metadata": {},
   "outputs": [
    {
     "ename": "ValueError",
     "evalue": "The indices for endog and exog are not aligned",
     "output_type": "error",
     "traceback": [
      "\u001b[0;31m---------------------------------------------------------------------------\u001b[0m",
      "\u001b[0;31mValueError\u001b[0m                                Traceback (most recent call last)",
      "Cell \u001b[0;32mIn[290], line 33\u001b[0m\n\u001b[1;32m     31\u001b[0m \u001b[38;5;28;01mif\u001b[39;00m spalte \u001b[38;5;129;01min\u001b[39;00m merged_df\u001b[38;5;241m.\u001b[39mcolumns:\n\u001b[1;32m     32\u001b[0m     y \u001b[38;5;241m=\u001b[39m merged_df[spalte]\n\u001b[0;32m---> 33\u001b[0m     model \u001b[38;5;241m=\u001b[39m sm\u001b[38;5;241m.\u001b[39mOLS(y, X)\u001b[38;5;241m.\u001b[39mfit()\n\u001b[1;32m     35\u001b[0m     \u001b[38;5;66;03m# Nur speichern, wenn signifikant\u001b[39;00m\n\u001b[1;32m     36\u001b[0m     p_val \u001b[38;5;241m=\u001b[39m model\u001b[38;5;241m.\u001b[39mpvalues[faktor]\n",
      "File \u001b[0;32m/opt/anaconda3/lib/python3.12/site-packages/statsmodels/regression/linear_model.py:924\u001b[0m, in \u001b[0;36mOLS.__init__\u001b[0;34m(self, endog, exog, missing, hasconst, **kwargs)\u001b[0m\n\u001b[1;32m    921\u001b[0m     msg \u001b[38;5;241m=\u001b[39m (\u001b[38;5;124m\"\u001b[39m\u001b[38;5;124mWeights are not supported in OLS and will be ignored\u001b[39m\u001b[38;5;124m\"\u001b[39m\n\u001b[1;32m    922\u001b[0m            \u001b[38;5;124m\"\u001b[39m\u001b[38;5;124mAn exception will be raised in the next version.\u001b[39m\u001b[38;5;124m\"\u001b[39m)\n\u001b[1;32m    923\u001b[0m     warnings\u001b[38;5;241m.\u001b[39mwarn(msg, ValueWarning)\n\u001b[0;32m--> 924\u001b[0m \u001b[38;5;28msuper\u001b[39m()\u001b[38;5;241m.\u001b[39m\u001b[38;5;21m__init__\u001b[39m(endog, exog, missing\u001b[38;5;241m=\u001b[39mmissing,\n\u001b[1;32m    925\u001b[0m                           hasconst\u001b[38;5;241m=\u001b[39mhasconst, \u001b[38;5;241m*\u001b[39m\u001b[38;5;241m*\u001b[39mkwargs)\n\u001b[1;32m    926\u001b[0m \u001b[38;5;28;01mif\u001b[39;00m \u001b[38;5;124m\"\u001b[39m\u001b[38;5;124mweights\u001b[39m\u001b[38;5;124m\"\u001b[39m \u001b[38;5;129;01min\u001b[39;00m \u001b[38;5;28mself\u001b[39m\u001b[38;5;241m.\u001b[39m_init_keys:\n\u001b[1;32m    927\u001b[0m     \u001b[38;5;28mself\u001b[39m\u001b[38;5;241m.\u001b[39m_init_keys\u001b[38;5;241m.\u001b[39mremove(\u001b[38;5;124m\"\u001b[39m\u001b[38;5;124mweights\u001b[39m\u001b[38;5;124m\"\u001b[39m)\n",
      "File \u001b[0;32m/opt/anaconda3/lib/python3.12/site-packages/statsmodels/regression/linear_model.py:749\u001b[0m, in \u001b[0;36mWLS.__init__\u001b[0;34m(self, endog, exog, weights, missing, hasconst, **kwargs)\u001b[0m\n\u001b[1;32m    747\u001b[0m \u001b[38;5;28;01melse\u001b[39;00m:\n\u001b[1;32m    748\u001b[0m     weights \u001b[38;5;241m=\u001b[39m weights\u001b[38;5;241m.\u001b[39msqueeze()\n\u001b[0;32m--> 749\u001b[0m \u001b[38;5;28msuper\u001b[39m()\u001b[38;5;241m.\u001b[39m\u001b[38;5;21m__init__\u001b[39m(endog, exog, missing\u001b[38;5;241m=\u001b[39mmissing,\n\u001b[1;32m    750\u001b[0m                           weights\u001b[38;5;241m=\u001b[39mweights, hasconst\u001b[38;5;241m=\u001b[39mhasconst, \u001b[38;5;241m*\u001b[39m\u001b[38;5;241m*\u001b[39mkwargs)\n\u001b[1;32m    751\u001b[0m nobs \u001b[38;5;241m=\u001b[39m \u001b[38;5;28mself\u001b[39m\u001b[38;5;241m.\u001b[39mexog\u001b[38;5;241m.\u001b[39mshape[\u001b[38;5;241m0\u001b[39m]\n\u001b[1;32m    752\u001b[0m weights \u001b[38;5;241m=\u001b[39m \u001b[38;5;28mself\u001b[39m\u001b[38;5;241m.\u001b[39mweights\n",
      "File \u001b[0;32m/opt/anaconda3/lib/python3.12/site-packages/statsmodels/regression/linear_model.py:203\u001b[0m, in \u001b[0;36mRegressionModel.__init__\u001b[0;34m(self, endog, exog, **kwargs)\u001b[0m\n\u001b[1;32m    202\u001b[0m \u001b[38;5;28;01mdef\u001b[39;00m \u001b[38;5;21m__init__\u001b[39m(\u001b[38;5;28mself\u001b[39m, endog, exog, \u001b[38;5;241m*\u001b[39m\u001b[38;5;241m*\u001b[39mkwargs):\n\u001b[0;32m--> 203\u001b[0m     \u001b[38;5;28msuper\u001b[39m()\u001b[38;5;241m.\u001b[39m\u001b[38;5;21m__init__\u001b[39m(endog, exog, \u001b[38;5;241m*\u001b[39m\u001b[38;5;241m*\u001b[39mkwargs)\n\u001b[1;32m    204\u001b[0m     \u001b[38;5;28mself\u001b[39m\u001b[38;5;241m.\u001b[39mpinv_wexog: Float64Array \u001b[38;5;241m|\u001b[39m \u001b[38;5;28;01mNone\u001b[39;00m \u001b[38;5;241m=\u001b[39m \u001b[38;5;28;01mNone\u001b[39;00m\n\u001b[1;32m    205\u001b[0m     \u001b[38;5;28mself\u001b[39m\u001b[38;5;241m.\u001b[39m_data_attr\u001b[38;5;241m.\u001b[39mextend([\u001b[38;5;124m'\u001b[39m\u001b[38;5;124mpinv_wexog\u001b[39m\u001b[38;5;124m'\u001b[39m, \u001b[38;5;124m'\u001b[39m\u001b[38;5;124mwendog\u001b[39m\u001b[38;5;124m'\u001b[39m, \u001b[38;5;124m'\u001b[39m\u001b[38;5;124mwexog\u001b[39m\u001b[38;5;124m'\u001b[39m, \u001b[38;5;124m'\u001b[39m\u001b[38;5;124mweights\u001b[39m\u001b[38;5;124m'\u001b[39m])\n",
      "File \u001b[0;32m/opt/anaconda3/lib/python3.12/site-packages/statsmodels/base/model.py:270\u001b[0m, in \u001b[0;36mLikelihoodModel.__init__\u001b[0;34m(self, endog, exog, **kwargs)\u001b[0m\n\u001b[1;32m    269\u001b[0m \u001b[38;5;28;01mdef\u001b[39;00m \u001b[38;5;21m__init__\u001b[39m(\u001b[38;5;28mself\u001b[39m, endog, exog\u001b[38;5;241m=\u001b[39m\u001b[38;5;28;01mNone\u001b[39;00m, \u001b[38;5;241m*\u001b[39m\u001b[38;5;241m*\u001b[39mkwargs):\n\u001b[0;32m--> 270\u001b[0m     \u001b[38;5;28msuper\u001b[39m()\u001b[38;5;241m.\u001b[39m\u001b[38;5;21m__init__\u001b[39m(endog, exog, \u001b[38;5;241m*\u001b[39m\u001b[38;5;241m*\u001b[39mkwargs)\n\u001b[1;32m    271\u001b[0m     \u001b[38;5;28mself\u001b[39m\u001b[38;5;241m.\u001b[39minitialize()\n",
      "File \u001b[0;32m/opt/anaconda3/lib/python3.12/site-packages/statsmodels/base/model.py:95\u001b[0m, in \u001b[0;36mModel.__init__\u001b[0;34m(self, endog, exog, **kwargs)\u001b[0m\n\u001b[1;32m     93\u001b[0m missing \u001b[38;5;241m=\u001b[39m kwargs\u001b[38;5;241m.\u001b[39mpop(\u001b[38;5;124m'\u001b[39m\u001b[38;5;124mmissing\u001b[39m\u001b[38;5;124m'\u001b[39m, \u001b[38;5;124m'\u001b[39m\u001b[38;5;124mnone\u001b[39m\u001b[38;5;124m'\u001b[39m)\n\u001b[1;32m     94\u001b[0m hasconst \u001b[38;5;241m=\u001b[39m kwargs\u001b[38;5;241m.\u001b[39mpop(\u001b[38;5;124m'\u001b[39m\u001b[38;5;124mhasconst\u001b[39m\u001b[38;5;124m'\u001b[39m, \u001b[38;5;28;01mNone\u001b[39;00m)\n\u001b[0;32m---> 95\u001b[0m \u001b[38;5;28mself\u001b[39m\u001b[38;5;241m.\u001b[39mdata \u001b[38;5;241m=\u001b[39m \u001b[38;5;28mself\u001b[39m\u001b[38;5;241m.\u001b[39m_handle_data(endog, exog, missing, hasconst,\n\u001b[1;32m     96\u001b[0m                               \u001b[38;5;241m*\u001b[39m\u001b[38;5;241m*\u001b[39mkwargs)\n\u001b[1;32m     97\u001b[0m \u001b[38;5;28mself\u001b[39m\u001b[38;5;241m.\u001b[39mk_constant \u001b[38;5;241m=\u001b[39m \u001b[38;5;28mself\u001b[39m\u001b[38;5;241m.\u001b[39mdata\u001b[38;5;241m.\u001b[39mk_constant\n\u001b[1;32m     98\u001b[0m \u001b[38;5;28mself\u001b[39m\u001b[38;5;241m.\u001b[39mexog \u001b[38;5;241m=\u001b[39m \u001b[38;5;28mself\u001b[39m\u001b[38;5;241m.\u001b[39mdata\u001b[38;5;241m.\u001b[39mexog\n",
      "File \u001b[0;32m/opt/anaconda3/lib/python3.12/site-packages/statsmodels/base/model.py:135\u001b[0m, in \u001b[0;36mModel._handle_data\u001b[0;34m(self, endog, exog, missing, hasconst, **kwargs)\u001b[0m\n\u001b[1;32m    134\u001b[0m \u001b[38;5;28;01mdef\u001b[39;00m \u001b[38;5;21m_handle_data\u001b[39m(\u001b[38;5;28mself\u001b[39m, endog, exog, missing, hasconst, \u001b[38;5;241m*\u001b[39m\u001b[38;5;241m*\u001b[39mkwargs):\n\u001b[0;32m--> 135\u001b[0m     data \u001b[38;5;241m=\u001b[39m handle_data(endog, exog, missing, hasconst, \u001b[38;5;241m*\u001b[39m\u001b[38;5;241m*\u001b[39mkwargs)\n\u001b[1;32m    136\u001b[0m     \u001b[38;5;66;03m# kwargs arrays could have changed, easier to just attach here\u001b[39;00m\n\u001b[1;32m    137\u001b[0m     \u001b[38;5;28;01mfor\u001b[39;00m key \u001b[38;5;129;01min\u001b[39;00m kwargs:\n",
      "File \u001b[0;32m/opt/anaconda3/lib/python3.12/site-packages/statsmodels/base/data.py:675\u001b[0m, in \u001b[0;36mhandle_data\u001b[0;34m(endog, exog, missing, hasconst, **kwargs)\u001b[0m\n\u001b[1;32m    672\u001b[0m     exog \u001b[38;5;241m=\u001b[39m np\u001b[38;5;241m.\u001b[39masarray(exog)\n\u001b[1;32m    674\u001b[0m klass \u001b[38;5;241m=\u001b[39m handle_data_class_factory(endog, exog)\n\u001b[0;32m--> 675\u001b[0m \u001b[38;5;28;01mreturn\u001b[39;00m klass(endog, exog\u001b[38;5;241m=\u001b[39mexog, missing\u001b[38;5;241m=\u001b[39mmissing, hasconst\u001b[38;5;241m=\u001b[39mhasconst,\n\u001b[1;32m    676\u001b[0m              \u001b[38;5;241m*\u001b[39m\u001b[38;5;241m*\u001b[39mkwargs)\n",
      "File \u001b[0;32m/opt/anaconda3/lib/python3.12/site-packages/statsmodels/base/data.py:89\u001b[0m, in \u001b[0;36mModelData.__init__\u001b[0;34m(self, endog, exog, missing, hasconst, **kwargs)\u001b[0m\n\u001b[1;32m     87\u001b[0m \u001b[38;5;28mself\u001b[39m\u001b[38;5;241m.\u001b[39mk_constant \u001b[38;5;241m=\u001b[39m \u001b[38;5;241m0\u001b[39m\n\u001b[1;32m     88\u001b[0m \u001b[38;5;28mself\u001b[39m\u001b[38;5;241m.\u001b[39m_handle_constant(hasconst)\n\u001b[0;32m---> 89\u001b[0m \u001b[38;5;28mself\u001b[39m\u001b[38;5;241m.\u001b[39m_check_integrity()\n\u001b[1;32m     90\u001b[0m \u001b[38;5;28mself\u001b[39m\u001b[38;5;241m.\u001b[39m_cache \u001b[38;5;241m=\u001b[39m {}\n",
      "File \u001b[0;32m/opt/anaconda3/lib/python3.12/site-packages/statsmodels/base/data.py:533\u001b[0m, in \u001b[0;36mPandasData._check_integrity\u001b[0;34m(self)\u001b[0m\n\u001b[1;32m    529\u001b[0m \u001b[38;5;66;03m# exog can be None and we could be upcasting one or the other\u001b[39;00m\n\u001b[1;32m    530\u001b[0m \u001b[38;5;28;01mif\u001b[39;00m (exog \u001b[38;5;129;01mis\u001b[39;00m \u001b[38;5;129;01mnot\u001b[39;00m \u001b[38;5;28;01mNone\u001b[39;00m \u001b[38;5;129;01mand\u001b[39;00m\n\u001b[1;32m    531\u001b[0m         (\u001b[38;5;28mhasattr\u001b[39m(endog, \u001b[38;5;124m'\u001b[39m\u001b[38;5;124mindex\u001b[39m\u001b[38;5;124m'\u001b[39m) \u001b[38;5;129;01mand\u001b[39;00m \u001b[38;5;28mhasattr\u001b[39m(exog, \u001b[38;5;124m'\u001b[39m\u001b[38;5;124mindex\u001b[39m\u001b[38;5;124m'\u001b[39m)) \u001b[38;5;129;01mand\u001b[39;00m\n\u001b[1;32m    532\u001b[0m         \u001b[38;5;129;01mnot\u001b[39;00m \u001b[38;5;28mself\u001b[39m\u001b[38;5;241m.\u001b[39morig_endog\u001b[38;5;241m.\u001b[39mindex\u001b[38;5;241m.\u001b[39mequals(\u001b[38;5;28mself\u001b[39m\u001b[38;5;241m.\u001b[39morig_exog\u001b[38;5;241m.\u001b[39mindex)):\n\u001b[0;32m--> 533\u001b[0m     \u001b[38;5;28;01mraise\u001b[39;00m \u001b[38;5;167;01mValueError\u001b[39;00m(\u001b[38;5;124m\"\u001b[39m\u001b[38;5;124mThe indices for endog and exog are not aligned\u001b[39m\u001b[38;5;124m\"\u001b[39m)\n\u001b[1;32m    534\u001b[0m \u001b[38;5;28msuper\u001b[39m()\u001b[38;5;241m.\u001b[39m_check_integrity()\n",
      "\u001b[0;31mValueError\u001b[0m: The indices for endog and exog are not aligned"
     ]
    }
   ],
   "source": [
    "import statsmodels.api as sm\n",
    "from sklearn.preprocessing import StandardScaler\n",
    "import pandas as pd\n",
    "\n",
    "# Zielspalten (Zweitstimmen in %)\n",
    "zielspalten = [\n",
    "    'CDU/CSU_Zweitstimmen_percent',\n",
    "    'SPD_Zweitstimmen_percent',\n",
    "    'Grüne_Zweitstimmen_percent',\n",
    "    'AfD_Zweitstimmen_percent',\n",
    "    'Die Linke_Zweitstimmen_percent',\n",
    "    'BSW_Zweitstimmen_percent',\n",
    "    'FDP_Zweitstimmen_percent'\n",
    "]\n",
    "\n",
    "# Nur numerische Strukturmerkmale\n",
    "strukturmerkmale = struktur_df.select_dtypes(include=[float, int]).columns\n",
    "\n",
    "# Standardisiere die Strukturmerkmale (optional, aber sinnvoll)\n",
    "scaler = StandardScaler()\n",
    "struktur_df_scaled = struktur_df.copy()\n",
    "struktur_df_scaled[strukturmerkmale] = scaler.fit_transform(struktur_df[strukturmerkmale])\n",
    "\n",
    "# Ergebnisse speichern\n",
    "alle_ergebnisse = []\n",
    "\n",
    "# Univariate Regression für jede Kombination aus Strukturmerkmal & Partei\n",
    "for faktor in strukturmerkmale:\n",
    "    X = sm.add_constant(struktur_df_scaled[[faktor]])  # nur eine Variable + Intercept\n",
    "    for spalte in zielspalten:\n",
    "        if spalte in merged_df.columns:\n",
    "            y = merged_df[spalte]\n",
    "            model = sm.OLS(y, X).fit()\n",
    "\n",
    "            # Nur speichern, wenn signifikant\n",
    "            p_val = model.pvalues[faktor]\n",
    "            if p_val < 0.05:\n",
    "                ergebnis = {\n",
    "                    'Partei': spalte.replace('_Zweitstimmen_percent', ''),\n",
    "                    'Faktor': faktor,\n",
    "                    'Koeffizient': model.params[faktor],\n",
    "                    'p-Wert': p_val\n",
    "                }\n",
    "                alle_ergebnisse.append(ergebnis)\n",
    "\n",
    "# In DataFrame umwandeln\n",
    "signifikante_ergebnisse_df = pd.DataFrame(alle_ergebnisse)\n",
    "\n",
    "# Exportieren\n",
    "signifikante_ergebnisse_df.to_csv('univariate_signifikante_faktoren.csv', index=False)\n",
    "\n",
    "# Vorschau\n",
    "print(signifikante_ergebnisse_df.head())"
   ]
  },
  {
   "cell_type": "code",
   "execution_count": null,
   "id": "45cb975d-ddea-4e40-9b4b-e6e8fd60ab8d",
   "metadata": {},
   "outputs": [],
   "source": [
    "signifikante_ergebnisse_df.info()"
   ]
  },
  {
   "cell_type": "code",
   "execution_count": null,
   "id": "ad1b08d2-d4b4-428a-a2a7-981f78597733",
   "metadata": {},
   "outputs": [],
   "source": [
    "# Top-Merkmale aus univariater Analyse nehmen\n",
    "top_faktoren = signifikante_ergebnisse_df['Faktor'].unique().tolist()"
   ]
  },
  {
   "cell_type": "code",
   "execution_count": 286,
   "id": "b55f5fb6-2559-4eab-8793-bf1652acd20c",
   "metadata": {},
   "outputs": [
    {
     "name": "stdout",
     "output_type": "stream",
     "text": [
      "['Anzahl Gemeinden', 'Fläche km2', 'Bevölkerung in Tsd', 'davon Deutsche in Tsd', 'Ausländer*innenanteil', 'Bevölkerungsdichte je km2', 'Geburtensaldo', 'Wanderungssaldo', 'Alter unter 16', 'Alter 16-17', 'Alter 18-24', 'Alter 25-34', 'Alter 60-74', 'Alter über 75', 'Bodenfläche Siedlung und Verkehr', 'Bodenfläche Vegetation & Gewässer', 'Fertiggestellte Wohnungen 2021 je Tsd Einwohner*innen', 'Bestand an Wohnungen 2021 je Tsd Einwohner*innen', 'Wohnfläche je Wohnung 2021', 'Wohnfläche 2021 je Tsd Einwohner*innen', 'PKW insgesamt je Tsd Einwohner*innen', 'PKW Elektro oder Hybrid', 'Unternehmen 2021 je Tsd Einwohner*innen', 'Handwerksunternehmen 2021 je Tsd Einwohner*innen', 'Schulabgänger*innen beruflicher Schulen 2022 je Tsd Einwohner*innen', 'Schulabgänger*innen insgesamt ohne Externe je Tsd Einwohner*innen', 'Schulabgänger*innen ohne Hauptschulabschluss', 'Schulabgänger*innen mit Hauptschulabschluss', 'Schulabgänger*innen mit Realschulabschluss', 'Schulabgänger*innen mit allgemeiner und Fachhochschulreife', 'Quote betreute Kinder unter 3 Jahre', 'Quote betreute Kinder 3-5 Jahre', 'Verfügbares Einkommen der privaten Haushalte 2021 EUR je Einwohner*in', 'BIP je Einwohner*in 2021', 'Sozialversicherungspflichtig je Tsd Einwohner*innen', 'Anteil Sozialversicherungspflichtiger in Land-, Forstwirtschaft & Fisherei', 'Anteil Sozialversicherungspflichtiger im produzierenden Gewerbe', 'Anteil Sozialversicherungspflichtiger im Handel, Gastgewerbe, Verkehr', 'Anteil Sozialversicherungspflichtige öffentliche und private Dienstleister', 'Anteil Sozialversicherungspflichtige übrige Dienstleister', 'Empfänger*innen Leistungen SGB II je Tsd Einwohner*innen', 'Anteil SGB II Empfänger*innen nichterwerbsfähige Hilfebedürftige', 'Anteil SGB II Empfänger*innen Ausländer*innen', 'Arbeitslosenquote insgesamt', 'Arbeitslosenquote Männer', 'Arbeitslosenquote Frauen', 'Arbeitslosenquote 15-24', 'Arbeitslosenquote 55-64']\n"
     ]
    }
   ],
   "source": [
    "print(top_faktoren)"
   ]
  },
  {
   "cell_type": "code",
   "execution_count": 288,
   "id": "36e5b0bc-e678-4489-84b2-37f52b627a4d",
   "metadata": {},
   "outputs": [
    {
     "ename": "UnicodeDecodeError",
     "evalue": "'utf-8' codec can't decode byte 0x8a in position 146: invalid start byte",
     "output_type": "error",
     "traceback": [
      "\u001b[0;31m---------------------------------------------------------------------------\u001b[0m",
      "\u001b[0;31mUnicodeDecodeError\u001b[0m                        Traceback (most recent call last)",
      "Cell \u001b[0;32mIn[288], line 2\u001b[0m\n\u001b[1;32m      1\u001b[0m \u001b[38;5;66;03m# CSV mit signifikanten univariaten Ergebnissen laden (falls noch nicht vorhanden)\u001b[39;00m\n\u001b[0;32m----> 2\u001b[0m df \u001b[38;5;241m=\u001b[39m pd\u001b[38;5;241m.\u001b[39mread_csv(\u001b[38;5;124m'\u001b[39m\u001b[38;5;124munivariate_signifikante_faktoren.csv\u001b[39m\u001b[38;5;124m'\u001b[39m)\n\u001b[1;32m      4\u001b[0m \u001b[38;5;66;03m# Häufigkeit der Faktoren zählen\u001b[39;00m\n\u001b[1;32m      5\u001b[0m top_faktor_counts \u001b[38;5;241m=\u001b[39m df[\u001b[38;5;124m'\u001b[39m\u001b[38;5;124mFaktor\u001b[39m\u001b[38;5;124m'\u001b[39m]\u001b[38;5;241m.\u001b[39mvalue_counts()\n",
      "File \u001b[0;32m/opt/anaconda3/lib/python3.12/site-packages/pandas/io/parsers/readers.py:1026\u001b[0m, in \u001b[0;36mread_csv\u001b[0;34m(filepath_or_buffer, sep, delimiter, header, names, index_col, usecols, dtype, engine, converters, true_values, false_values, skipinitialspace, skiprows, skipfooter, nrows, na_values, keep_default_na, na_filter, verbose, skip_blank_lines, parse_dates, infer_datetime_format, keep_date_col, date_parser, date_format, dayfirst, cache_dates, iterator, chunksize, compression, thousands, decimal, lineterminator, quotechar, quoting, doublequote, escapechar, comment, encoding, encoding_errors, dialect, on_bad_lines, delim_whitespace, low_memory, memory_map, float_precision, storage_options, dtype_backend)\u001b[0m\n\u001b[1;32m   1013\u001b[0m kwds_defaults \u001b[38;5;241m=\u001b[39m _refine_defaults_read(\n\u001b[1;32m   1014\u001b[0m     dialect,\n\u001b[1;32m   1015\u001b[0m     delimiter,\n\u001b[0;32m   (...)\u001b[0m\n\u001b[1;32m   1022\u001b[0m     dtype_backend\u001b[38;5;241m=\u001b[39mdtype_backend,\n\u001b[1;32m   1023\u001b[0m )\n\u001b[1;32m   1024\u001b[0m kwds\u001b[38;5;241m.\u001b[39mupdate(kwds_defaults)\n\u001b[0;32m-> 1026\u001b[0m \u001b[38;5;28;01mreturn\u001b[39;00m _read(filepath_or_buffer, kwds)\n",
      "File \u001b[0;32m/opt/anaconda3/lib/python3.12/site-packages/pandas/io/parsers/readers.py:620\u001b[0m, in \u001b[0;36m_read\u001b[0;34m(filepath_or_buffer, kwds)\u001b[0m\n\u001b[1;32m    617\u001b[0m _validate_names(kwds\u001b[38;5;241m.\u001b[39mget(\u001b[38;5;124m\"\u001b[39m\u001b[38;5;124mnames\u001b[39m\u001b[38;5;124m\"\u001b[39m, \u001b[38;5;28;01mNone\u001b[39;00m))\n\u001b[1;32m    619\u001b[0m \u001b[38;5;66;03m# Create the parser.\u001b[39;00m\n\u001b[0;32m--> 620\u001b[0m parser \u001b[38;5;241m=\u001b[39m TextFileReader(filepath_or_buffer, \u001b[38;5;241m*\u001b[39m\u001b[38;5;241m*\u001b[39mkwds)\n\u001b[1;32m    622\u001b[0m \u001b[38;5;28;01mif\u001b[39;00m chunksize \u001b[38;5;129;01mor\u001b[39;00m iterator:\n\u001b[1;32m    623\u001b[0m     \u001b[38;5;28;01mreturn\u001b[39;00m parser\n",
      "File \u001b[0;32m/opt/anaconda3/lib/python3.12/site-packages/pandas/io/parsers/readers.py:1620\u001b[0m, in \u001b[0;36mTextFileReader.__init__\u001b[0;34m(self, f, engine, **kwds)\u001b[0m\n\u001b[1;32m   1617\u001b[0m     \u001b[38;5;28mself\u001b[39m\u001b[38;5;241m.\u001b[39moptions[\u001b[38;5;124m\"\u001b[39m\u001b[38;5;124mhas_index_names\u001b[39m\u001b[38;5;124m\"\u001b[39m] \u001b[38;5;241m=\u001b[39m kwds[\u001b[38;5;124m\"\u001b[39m\u001b[38;5;124mhas_index_names\u001b[39m\u001b[38;5;124m\"\u001b[39m]\n\u001b[1;32m   1619\u001b[0m \u001b[38;5;28mself\u001b[39m\u001b[38;5;241m.\u001b[39mhandles: IOHandles \u001b[38;5;241m|\u001b[39m \u001b[38;5;28;01mNone\u001b[39;00m \u001b[38;5;241m=\u001b[39m \u001b[38;5;28;01mNone\u001b[39;00m\n\u001b[0;32m-> 1620\u001b[0m \u001b[38;5;28mself\u001b[39m\u001b[38;5;241m.\u001b[39m_engine \u001b[38;5;241m=\u001b[39m \u001b[38;5;28mself\u001b[39m\u001b[38;5;241m.\u001b[39m_make_engine(f, \u001b[38;5;28mself\u001b[39m\u001b[38;5;241m.\u001b[39mengine)\n",
      "File \u001b[0;32m/opt/anaconda3/lib/python3.12/site-packages/pandas/io/parsers/readers.py:1898\u001b[0m, in \u001b[0;36mTextFileReader._make_engine\u001b[0;34m(self, f, engine)\u001b[0m\n\u001b[1;32m   1895\u001b[0m     \u001b[38;5;28;01mraise\u001b[39;00m \u001b[38;5;167;01mValueError\u001b[39;00m(msg)\n\u001b[1;32m   1897\u001b[0m \u001b[38;5;28;01mtry\u001b[39;00m:\n\u001b[0;32m-> 1898\u001b[0m     \u001b[38;5;28;01mreturn\u001b[39;00m mapping[engine](f, \u001b[38;5;241m*\u001b[39m\u001b[38;5;241m*\u001b[39m\u001b[38;5;28mself\u001b[39m\u001b[38;5;241m.\u001b[39moptions)\n\u001b[1;32m   1899\u001b[0m \u001b[38;5;28;01mexcept\u001b[39;00m \u001b[38;5;167;01mException\u001b[39;00m:\n\u001b[1;32m   1900\u001b[0m     \u001b[38;5;28;01mif\u001b[39;00m \u001b[38;5;28mself\u001b[39m\u001b[38;5;241m.\u001b[39mhandles \u001b[38;5;129;01mis\u001b[39;00m \u001b[38;5;129;01mnot\u001b[39;00m \u001b[38;5;28;01mNone\u001b[39;00m:\n",
      "File \u001b[0;32m/opt/anaconda3/lib/python3.12/site-packages/pandas/io/parsers/c_parser_wrapper.py:93\u001b[0m, in \u001b[0;36mCParserWrapper.__init__\u001b[0;34m(self, src, **kwds)\u001b[0m\n\u001b[1;32m     90\u001b[0m \u001b[38;5;28;01mif\u001b[39;00m kwds[\u001b[38;5;124m\"\u001b[39m\u001b[38;5;124mdtype_backend\u001b[39m\u001b[38;5;124m\"\u001b[39m] \u001b[38;5;241m==\u001b[39m \u001b[38;5;124m\"\u001b[39m\u001b[38;5;124mpyarrow\u001b[39m\u001b[38;5;124m\"\u001b[39m:\n\u001b[1;32m     91\u001b[0m     \u001b[38;5;66;03m# Fail here loudly instead of in cython after reading\u001b[39;00m\n\u001b[1;32m     92\u001b[0m     import_optional_dependency(\u001b[38;5;124m\"\u001b[39m\u001b[38;5;124mpyarrow\u001b[39m\u001b[38;5;124m\"\u001b[39m)\n\u001b[0;32m---> 93\u001b[0m \u001b[38;5;28mself\u001b[39m\u001b[38;5;241m.\u001b[39m_reader \u001b[38;5;241m=\u001b[39m parsers\u001b[38;5;241m.\u001b[39mTextReader(src, \u001b[38;5;241m*\u001b[39m\u001b[38;5;241m*\u001b[39mkwds)\n\u001b[1;32m     95\u001b[0m \u001b[38;5;28mself\u001b[39m\u001b[38;5;241m.\u001b[39munnamed_cols \u001b[38;5;241m=\u001b[39m \u001b[38;5;28mself\u001b[39m\u001b[38;5;241m.\u001b[39m_reader\u001b[38;5;241m.\u001b[39munnamed_cols\n\u001b[1;32m     97\u001b[0m \u001b[38;5;66;03m# error: Cannot determine type of 'names'\u001b[39;00m\n",
      "File \u001b[0;32mparsers.pyx:574\u001b[0m, in \u001b[0;36mpandas._libs.parsers.TextReader.__cinit__\u001b[0;34m()\u001b[0m\n",
      "File \u001b[0;32mparsers.pyx:663\u001b[0m, in \u001b[0;36mpandas._libs.parsers.TextReader._get_header\u001b[0;34m()\u001b[0m\n",
      "File \u001b[0;32mparsers.pyx:874\u001b[0m, in \u001b[0;36mpandas._libs.parsers.TextReader._tokenize_rows\u001b[0;34m()\u001b[0m\n",
      "File \u001b[0;32mparsers.pyx:891\u001b[0m, in \u001b[0;36mpandas._libs.parsers.TextReader._check_tokenize_status\u001b[0;34m()\u001b[0m\n",
      "File \u001b[0;32mparsers.pyx:2053\u001b[0m, in \u001b[0;36mpandas._libs.parsers.raise_parser_error\u001b[0;34m()\u001b[0m\n",
      "File \u001b[0;32m<frozen codecs>:322\u001b[0m, in \u001b[0;36mdecode\u001b[0;34m(self, input, final)\u001b[0m\n",
      "\u001b[0;31mUnicodeDecodeError\u001b[0m: 'utf-8' codec can't decode byte 0x8a in position 146: invalid start byte"
     ]
    }
   ],
   "source": [
    "# CSV mit signifikanten univariaten Ergebnissen laden (falls noch nicht vorhanden)\n",
    "df = pd.read_csv('univariate_signifikante_faktoren.csv')\n",
    "\n",
    "# Häufigkeit der Faktoren zählen\n",
    "top_faktor_counts = df['Faktor'].value_counts()\n",
    "\n",
    "# Anzeigen der Top-N\n",
    "print(top_faktor_counts.head(10))"
   ]
  },
  {
   "cell_type": "code",
   "execution_count": null,
   "id": "3c430311-4464-45d2-892f-b080cb59dd11",
   "metadata": {},
   "outputs": [],
   "source": []
  },
  {
   "cell_type": "code",
   "execution_count": 207,
   "id": "68fd1c4f-029d-4172-b7bb-4aeeddf96745",
   "metadata": {},
   "outputs": [],
   "source": [
    "from sklearn.preprocessing import StandardScaler\n",
    "import statsmodels.api as sm\n",
    "import pandas as pd\n",
    "\n",
    "# Strukturmerkmale (alle numerischen Spalten)\n",
    "X = struktur_df.select_dtypes(include=[np.number])\n",
    "\n",
    "# Top-k Strukturmerkmale auswählen (z. B. die ersten 10 – oder spezifisch)\n",
    "top_k = 10\n",
    "selected_columns = X.columns[:top_k]  # Optional: z. B. ['BIP je Einwohner', 'Arbeitslosenquote ...']\n",
    "X_reduced = X[selected_columns]\n",
    "\n",
    "# Standardisieren\n",
    "scaler = StandardScaler()\n",
    "X_scaled = scaler.fit_transform(X_reduced)\n",
    "X_const = sm.add_constant(X_scaled)\n",
    "\n",
    "# Namen für spätere Zuordnung (Intercept + Strukturmerkmale)\n",
    "faktornamen = ['Intercept'] + selected_columns.tolist()"
   ]
  },
  {
   "cell_type": "code",
   "execution_count": 209,
   "id": "b09f8989-3e12-4b98-b436-49ecd9e1af16",
   "metadata": {},
   "outputs": [],
   "source": [
    "# Zielvariablen (Zweitstimmen in %)\n",
    "zielspalten = [\n",
    "    'CDU/CSU_Zweitstimmen_percent',\n",
    "    'SPD_Zweitstimmen_percent',\n",
    "    'Grüne_Zweitstimmen_percent',\n",
    "    'AfD_Zweitstimmen_percent',\n",
    "    'Die Linke_Zweitstimmen_percent',\n",
    "    'BSW_Zweitstimmen_percent',\n",
    "    'FDP_Zweitstimmen_percent'\n",
    "]\n",
    "\n",
    "alle_ergebnisse = []\n",
    "\n",
    "for spalte in zielspalten:\n",
    "    if spalte in merged_df.columns:\n",
    "        y = merged_df[spalte]\n",
    "        model = sm.OLS(y, X_const).fit()\n",
    "\n",
    "        # Erstelle DataFrame mit echten Namen\n",
    "        df = pd.DataFrame({\n",
    "            'Faktor': faktornamen,\n",
    "            'Koeffizient': model.params.values,\n",
    "            'p-Wert': model.pvalues.values,\n",
    "        })\n",
    "        df['Partei'] = spalte.replace('_Zweitstimmen_percent', '')\n",
    "        alle_ergebnisse.append(df)\n",
    "    else:\n",
    "        print(f\"Spalte nicht gefunden: {spalte}\")"
   ]
  },
  {
   "cell_type": "code",
   "execution_count": 211,
   "id": "df097af7-69c8-4b65-95af-bf23ecf717f1",
   "metadata": {},
   "outputs": [
    {
     "name": "stdout",
     "output_type": "stream",
     "text": [
      "                  Faktor  Koeffizient        p-Wert   Partei\n",
      "0              Intercept    24.625000  6.264127e-07  CDU/CSU\n",
      "1       Anzahl Gemeinden     2.547178  1.550889e-01  CDU/CSU\n",
      "2             Fläche km2     0.993425  7.176272e-01  CDU/CSU\n",
      "3     Bevölkerung in Tsd   -28.896386  6.744423e-01  CDU/CSU\n",
      "4  davon Deutsche in Tsd    30.376064  6.634845e-01  CDU/CSU\n"
     ]
    }
   ],
   "source": [
    "# Gesamttabelle erzeugen\n",
    "ergebnisse_df = pd.concat(alle_ergebnisse, ignore_index=True)\n",
    "\n",
    "# Export als CSV\n",
    "ergebnisse_df.to_csv('wahlanalyse_regressionsergebnisse.csv', index=False)\n",
    "\n",
    "# Optional: Anzeigen\n",
    "print(ergebnisse_df.head())"
   ]
  },
  {
   "cell_type": "code",
   "execution_count": 213,
   "id": "830cc7cc-6e98-4e53-bd27-857a1f585709",
   "metadata": {},
   "outputs": [],
   "source": [
    "# Nur Faktoren mit p-Wert < 0.05 und ohne Intercept\n",
    "signifikant_df = ergebnisse_df[\n",
    "    (ergebnisse_df['p-Wert'] < 0.05) &\n",
    "    (ergebnisse_df['Faktor'] != 'Intercept')\n",
    "]"
   ]
  },
  {
   "cell_type": "raw",
   "id": "ab488203-bc60-4d0c-b2ee-2db4694cb9af",
   "metadata": {},
   "source": [
    "signifikant_df.head()"
   ]
  },
  {
   "cell_type": "code",
   "execution_count": null,
   "id": "6d98eeda-0ba1-4864-bea3-10b0d5d7fbc1",
   "metadata": {},
   "outputs": [],
   "source": []
  },
  {
   "cell_type": "code",
   "execution_count": 198,
   "id": "f50df60f-1a7b-468e-bb31-f320a5c6eda8",
   "metadata": {},
   "outputs": [
    {
     "name": "stdout",
     "output_type": "stream",
     "text": [
      "Spalte: CDU/CSU_Zweitstimmen_percent\n",
      "Anzahl Beobachtungen: 16\n",
      "Anzahl Prädiktoren: 11\n",
      "P-Werte: const    6.264127e-07\n",
      "x1       1.550889e-01\n",
      "x2       7.176272e-01\n",
      "x3       6.744423e-01\n",
      "x4       6.634845e-01\n",
      "x5       4.933490e-01\n",
      "x6       9.637116e-01\n",
      "x7       7.529995e-01\n",
      "x8       8.914656e-01\n",
      "x9       3.944884e-01\n",
      "x10      1.779523e-01\n",
      "dtype: float64\n",
      "Spalte: SPD_Zweitstimmen_percent\n",
      "Anzahl Beobachtungen: 16\n",
      "Anzahl Prädiktoren: 11\n",
      "P-Werte: const    0.000016\n",
      "x1       0.620192\n",
      "x2       0.807718\n",
      "x3       0.323784\n",
      "x4       0.335785\n",
      "x5       0.295124\n",
      "x6       0.814921\n",
      "x7       0.551814\n",
      "x8       0.535296\n",
      "x9       0.954166\n",
      "x10      0.065528\n",
      "dtype: float64\n",
      "Spalte: Grüne_Zweitstimmen_percent\n",
      "Anzahl Beobachtungen: 16\n",
      "Anzahl Prädiktoren: 11\n",
      "P-Werte: const    0.000002\n",
      "x1       0.451125\n",
      "x2       0.884885\n",
      "x3       0.985581\n",
      "x4       0.986345\n",
      "x5       0.412335\n",
      "x6       0.407901\n",
      "x7       0.201145\n",
      "x8       0.506904\n",
      "x9       0.929359\n",
      "x10      0.096386\n",
      "dtype: float64\n",
      "Spalte: AfD_Zweitstimmen_percent\n",
      "Anzahl Beobachtungen: 16\n",
      "Anzahl Prädiktoren: 11\n",
      "P-Werte: const    0.000001\n",
      "x1       0.385317\n",
      "x2       0.965336\n",
      "x3       0.393550\n",
      "x4       0.407765\n",
      "x5       0.427368\n",
      "x6       0.418057\n",
      "x7       0.776130\n",
      "x8       0.750911\n",
      "x9       0.712544\n",
      "x10      0.016713\n",
      "dtype: float64\n",
      "Spalte: Die Linke_Zweitstimmen_percent\n",
      "Anzahl Beobachtungen: 16\n",
      "Anzahl Prädiktoren: 11\n",
      "P-Werte: const    0.000083\n",
      "x1       0.416164\n",
      "x2       0.824228\n",
      "x3       0.929873\n",
      "x4       0.926689\n",
      "x5       0.831703\n",
      "x6       0.965411\n",
      "x7       0.857273\n",
      "x8       0.993517\n",
      "x9       0.790624\n",
      "x10      0.291742\n",
      "dtype: float64\n",
      "Spalte: BSW_Zweitstimmen_percent\n",
      "Anzahl Beobachtungen: 16\n",
      "Anzahl Prädiktoren: 11\n",
      "P-Werte: const    3.826520e-07\n",
      "x1       2.062666e-01\n",
      "x2       9.635285e-01\n",
      "x3       8.020852e-02\n",
      "x4       8.603479e-02\n",
      "x5       4.318445e-01\n",
      "x6       5.592219e-01\n",
      "x7       1.095730e-01\n",
      "x8       2.456324e-01\n",
      "x9       2.005358e-01\n",
      "x10      6.361734e-03\n",
      "dtype: float64\n",
      "Spalte: FDP_Zweitstimmen_percent\n",
      "Anzahl Beobachtungen: 16\n",
      "Anzahl Prädiktoren: 11\n",
      "P-Werte: const    6.257796e-07\n",
      "x1       4.106338e-01\n",
      "x2       8.519234e-01\n",
      "x3       3.842453e-01\n",
      "x4       3.939976e-01\n",
      "x5       6.175827e-01\n",
      "x6       7.134726e-01\n",
      "x7       8.110554e-01\n",
      "x8       9.954372e-01\n",
      "x9       8.518729e-01\n",
      "x10      5.405506e-02\n",
      "dtype: float64\n"
     ]
    }
   ],
   "source": [
    "from sklearn.preprocessing import StandardScaler\n",
    "import statsmodels.api as sm\n",
    "import pandas as pd\n",
    "\n",
    "# Strukturmerkmale (alle numerischen Spalten)\n",
    "X = struktur_df.select_dtypes(include=[np.number])\n",
    "\n",
    "# Nur die ersten 10 Merkmale verwenden (du kannst später gezielt auswählen)\n",
    "top_k = 10\n",
    "selected_columns = X.columns[:top_k]  # oder manuell: ['Arbeitslosenquote', ...]\n",
    "X_reduced = X[selected_columns]\n",
    "\n",
    "# Standardisieren\n",
    "scaler = StandardScaler()\n",
    "X_scaled = scaler.fit_transform(X_reduced)\n",
    "X_const = sm.add_constant(X_scaled)\n",
    "\n",
    "\n",
    "# Liste der Zielvariablen (Zweitstimmen in %)\n",
    "zielspalten = [\n",
    "    'CDU/CSU_Zweitstimmen_percent',\n",
    "    'SPD_Zweitstimmen_percent',\n",
    "    'Grüne_Zweitstimmen_percent',\n",
    "    'AfD_Zweitstimmen_percent',\n",
    "    'Die Linke_Zweitstimmen_percent',\n",
    "    'BSW_Zweitstimmen_percent',\n",
    "    'FDP_Zweitstimmen_percent'\n",
    "]\n",
    "\n",
    "# Vor der Schleife\n",
    "faktornamen = ['Intercept'] + selected_columns.tolist()\n",
    "\n",
    "\n",
    "alle_ergebnisse = []\n",
    "\n",
    "for spalte in zielspalten:\n",
    "    if spalte in merged_df.columns:\n",
    "        y = merged_df[spalte]\n",
    "        model = sm.OLS(y, X_const).fit()\n",
    "\n",
    "        print(f\"Spalte: {spalte}\")\n",
    "        print(\"Anzahl Beobachtungen:\", len(y))\n",
    "        print(\"Anzahl Prädiktoren:\", X_const.shape[1])\n",
    "        print(\"P-Werte:\", model.pvalues)\n",
    "\n",
    "        \n",
    "        # Erstelle DataFrame basierend auf den Indexen von model.params und model.pvalues\n",
    "        df = pd.DataFrame({\n",
    "            'Faktor': faktornamen,\n",
    "            'Koeffizient': model.params.values,\n",
    "            'p-Wert': model.pvalues.values,\n",
    "        })\n",
    "        df['Partei'] = spalte.replace('_Zweitstimmen_percent', '')\n",
    "        alle_ergebnisse.append(df)\n",
    "    else:\n",
    "        print(f\"Spalte nicht gefunden: {spalte}\")\n",
    "\n",
    "# Alle Ergebnisse zusammenfassen\n",
    "ergebnisse_df = pd.concat(alle_ergebnisse, ignore_index=True)\n",
    "\n",
    "# Export\n",
    "ergebnisse_df.to_csv('wahlanalyse_regressionsergebnisse.csv', index=False)"
   ]
  },
  {
   "cell_type": "code",
   "execution_count": 196,
   "id": "dd6acb8a-c70e-4496-b62b-0690ebdf4150",
   "metadata": {},
   "outputs": [
    {
     "name": "stdout",
     "output_type": "stream",
     "text": [
      "  Faktor  Koeffizient        p-Wert   Partei\n",
      "0  const    24.625000  6.264127e-07  CDU/CSU\n",
      "1     x1     2.547178  1.550889e-01  CDU/CSU\n",
      "2     x2     0.993425  7.176272e-01  CDU/CSU\n",
      "3     x3   -28.896386  6.744423e-01  CDU/CSU\n",
      "4     x4    30.376064  6.634845e-01  CDU/CSU\n",
      "0\n"
     ]
    }
   ],
   "source": [
    "print(ergebnisse_df.head())\n",
    "print(ergebnisse_df['p-Wert'].isna().sum())"
   ]
  },
  {
   "cell_type": "code",
   "execution_count": null,
   "id": "ad0cbfb5-c900-4c8e-aaa5-3ed8d9141108",
   "metadata": {},
   "outputs": [],
   "source": []
  },
  {
   "cell_type": "code",
   "execution_count": 186,
   "id": "4966b010-fbf7-488c-8699-46ed6fa76b40",
   "metadata": {},
   "outputs": [
    {
     "data": {
      "text/html": [
       "<div>\n",
       "<style scoped>\n",
       "    .dataframe tbody tr th:only-of-type {\n",
       "        vertical-align: middle;\n",
       "    }\n",
       "\n",
       "    .dataframe tbody tr th {\n",
       "        vertical-align: top;\n",
       "    }\n",
       "\n",
       "    .dataframe thead th {\n",
       "        text-align: right;\n",
       "    }\n",
       "</style>\n",
       "<table border=\"1\" class=\"dataframe\">\n",
       "  <thead>\n",
       "    <tr style=\"text-align: right;\">\n",
       "      <th></th>\n",
       "      <th>Faktor</th>\n",
       "      <th>Koeffizient</th>\n",
       "      <th>p-Wert</th>\n",
       "      <th>Partei</th>\n",
       "    </tr>\n",
       "  </thead>\n",
       "  <tbody>\n",
       "    <tr>\n",
       "      <th>0</th>\n",
       "      <td>const</td>\n",
       "      <td>24.625000</td>\n",
       "      <td>NaN</td>\n",
       "      <td>CDU/CSU</td>\n",
       "    </tr>\n",
       "    <tr>\n",
       "      <th>1</th>\n",
       "      <td>x1</td>\n",
       "      <td>0.875134</td>\n",
       "      <td>NaN</td>\n",
       "      <td>CDU/CSU</td>\n",
       "    </tr>\n",
       "    <tr>\n",
       "      <th>2</th>\n",
       "      <td>x2</td>\n",
       "      <td>0.538621</td>\n",
       "      <td>NaN</td>\n",
       "      <td>CDU/CSU</td>\n",
       "    </tr>\n",
       "    <tr>\n",
       "      <th>3</th>\n",
       "      <td>x3</td>\n",
       "      <td>0.859356</td>\n",
       "      <td>NaN</td>\n",
       "      <td>CDU/CSU</td>\n",
       "    </tr>\n",
       "    <tr>\n",
       "      <th>4</th>\n",
       "      <td>x4</td>\n",
       "      <td>0.859499</td>\n",
       "      <td>NaN</td>\n",
       "      <td>CDU/CSU</td>\n",
       "    </tr>\n",
       "  </tbody>\n",
       "</table>\n",
       "</div>"
      ],
      "text/plain": [
       "  Faktor  Koeffizient  p-Wert   Partei\n",
       "0  const    24.625000     NaN  CDU/CSU\n",
       "1     x1     0.875134     NaN  CDU/CSU\n",
       "2     x2     0.538621     NaN  CDU/CSU\n",
       "3     x3     0.859356     NaN  CDU/CSU\n",
       "4     x4     0.859499     NaN  CDU/CSU"
      ]
     },
     "execution_count": 186,
     "metadata": {},
     "output_type": "execute_result"
    }
   ],
   "source": [
    "ergebnisse_df.head()"
   ]
  },
  {
   "cell_type": "code",
   "execution_count": 152,
   "id": "ce7128e3-5938-49a2-b250-1ee11ac10b9e",
   "metadata": {},
   "outputs": [
    {
     "ename": "SyntaxError",
     "evalue": "incomplete input (3703630389.py, line 3)",
     "output_type": "error",
     "traceback": [
      "\u001b[0;36m  Cell \u001b[0;32mIn[152], line 3\u001b[0;36m\u001b[0m\n\u001b[0;31m    (ergebnisse_df['Faktor'] != 'Intercept')\u001b[0m\n\u001b[0m                                            ^\u001b[0m\n\u001b[0;31mSyntaxError\u001b[0m\u001b[0;31m:\u001b[0m incomplete input\n"
     ]
    }
   ],
   "source": [
    "signifikant_df = ergebnisse_df[\n",
    "    (ergebnisse_df['p-Wert'] < 0.05) & \n",
    "    (ergebnisse_df['Faktor'] != 'Intercept')"
   ]
  },
  {
   "cell_type": "code",
   "execution_count": null,
   "id": "0a618358-c7f1-452a-a104-570af4dda4a2",
   "metadata": {},
   "outputs": [],
   "source": [
    "print(signifikant_df.shape)\n",
    "print(signifikant_df['Partei'].value_counts())"
   ]
  },
  {
   "cell_type": "code",
   "execution_count": 124,
   "id": "ca0d5b31-7863-4a96-a48f-4acb0c5654b1",
   "metadata": {},
   "outputs": [
    {
     "ename": "ValueError",
     "evalue": "zero-size array to reduction operation fmin which has no identity",
     "output_type": "error",
     "traceback": [
      "\u001b[0;31m---------------------------------------------------------------------------\u001b[0m",
      "\u001b[0;31mValueError\u001b[0m                                Traceback (most recent call last)",
      "Cell \u001b[0;32mIn[124], line 20\u001b[0m\n\u001b[1;32m     18\u001b[0m \u001b[38;5;66;03m# Plot\u001b[39;00m\n\u001b[1;32m     19\u001b[0m plt\u001b[38;5;241m.\u001b[39mfigure(figsize\u001b[38;5;241m=\u001b[39m(\u001b[38;5;241m12\u001b[39m, \u001b[38;5;241m10\u001b[39m))\n\u001b[0;32m---> 20\u001b[0m sns\u001b[38;5;241m.\u001b[39mheatmap(heatmap_df, annot\u001b[38;5;241m=\u001b[39m\u001b[38;5;28;01mTrue\u001b[39;00m, cmap\u001b[38;5;241m=\u001b[39m\u001b[38;5;124m'\u001b[39m\u001b[38;5;124mcoolwarm\u001b[39m\u001b[38;5;124m'\u001b[39m, center\u001b[38;5;241m=\u001b[39m\u001b[38;5;241m0\u001b[39m, linewidths\u001b[38;5;241m=\u001b[39m\u001b[38;5;241m0.5\u001b[39m, fmt\u001b[38;5;241m=\u001b[39m\u001b[38;5;124m\"\u001b[39m\u001b[38;5;124m.2f\u001b[39m\u001b[38;5;124m\"\u001b[39m)\n\u001b[1;32m     22\u001b[0m \u001b[38;5;66;03m# Verständliche Achsen & Titel\u001b[39;00m\n\u001b[1;32m     23\u001b[0m plt\u001b[38;5;241m.\u001b[39mtitle(\u001b[38;5;124m'\u001b[39m\u001b[38;5;124mEinfluss signifikanter Strukturmerkmale auf Wahlergebnisse der Parteien\u001b[39m\u001b[38;5;124m'\u001b[39m, fontsize\u001b[38;5;241m=\u001b[39m\u001b[38;5;241m14\u001b[39m)\n",
      "File \u001b[0;32m/opt/anaconda3/lib/python3.12/site-packages/seaborn/matrix.py:446\u001b[0m, in \u001b[0;36mheatmap\u001b[0;34m(data, vmin, vmax, cmap, center, robust, annot, fmt, annot_kws, linewidths, linecolor, cbar, cbar_kws, cbar_ax, square, xticklabels, yticklabels, mask, ax, **kwargs)\u001b[0m\n\u001b[1;32m    365\u001b[0m \u001b[38;5;250m\u001b[39m\u001b[38;5;124;03m\"\"\"Plot rectangular data as a color-encoded matrix.\u001b[39;00m\n\u001b[1;32m    366\u001b[0m \n\u001b[1;32m    367\u001b[0m \u001b[38;5;124;03mThis is an Axes-level function and will draw the heatmap into the\u001b[39;00m\n\u001b[0;32m   (...)\u001b[0m\n\u001b[1;32m    443\u001b[0m \n\u001b[1;32m    444\u001b[0m \u001b[38;5;124;03m\"\"\"\u001b[39;00m\n\u001b[1;32m    445\u001b[0m \u001b[38;5;66;03m# Initialize the plotter object\u001b[39;00m\n\u001b[0;32m--> 446\u001b[0m plotter \u001b[38;5;241m=\u001b[39m _HeatMapper(data, vmin, vmax, cmap, center, robust, annot, fmt,\n\u001b[1;32m    447\u001b[0m                       annot_kws, cbar, cbar_kws, xticklabels,\n\u001b[1;32m    448\u001b[0m                       yticklabels, mask)\n\u001b[1;32m    450\u001b[0m \u001b[38;5;66;03m# Add the pcolormesh kwargs here\u001b[39;00m\n\u001b[1;32m    451\u001b[0m kwargs[\u001b[38;5;124m\"\u001b[39m\u001b[38;5;124mlinewidths\u001b[39m\u001b[38;5;124m\"\u001b[39m] \u001b[38;5;241m=\u001b[39m linewidths\n",
      "File \u001b[0;32m/opt/anaconda3/lib/python3.12/site-packages/seaborn/matrix.py:163\u001b[0m, in \u001b[0;36m_HeatMapper.__init__\u001b[0;34m(self, data, vmin, vmax, cmap, center, robust, annot, fmt, annot_kws, cbar, cbar_kws, xticklabels, yticklabels, mask)\u001b[0m\n\u001b[1;32m    160\u001b[0m \u001b[38;5;28mself\u001b[39m\u001b[38;5;241m.\u001b[39mylabel \u001b[38;5;241m=\u001b[39m ylabel \u001b[38;5;28;01mif\u001b[39;00m ylabel \u001b[38;5;129;01mis\u001b[39;00m \u001b[38;5;129;01mnot\u001b[39;00m \u001b[38;5;28;01mNone\u001b[39;00m \u001b[38;5;28;01melse\u001b[39;00m \u001b[38;5;124m\"\u001b[39m\u001b[38;5;124m\"\u001b[39m\n\u001b[1;32m    162\u001b[0m \u001b[38;5;66;03m# Determine good default values for the colormapping\u001b[39;00m\n\u001b[0;32m--> 163\u001b[0m \u001b[38;5;28mself\u001b[39m\u001b[38;5;241m.\u001b[39m_determine_cmap_params(plot_data, vmin, vmax,\n\u001b[1;32m    164\u001b[0m                             cmap, center, robust)\n\u001b[1;32m    166\u001b[0m \u001b[38;5;66;03m# Sort out the annotations\u001b[39;00m\n\u001b[1;32m    167\u001b[0m \u001b[38;5;28;01mif\u001b[39;00m annot \u001b[38;5;129;01mis\u001b[39;00m \u001b[38;5;28;01mNone\u001b[39;00m \u001b[38;5;129;01mor\u001b[39;00m annot \u001b[38;5;129;01mis\u001b[39;00m \u001b[38;5;28;01mFalse\u001b[39;00m:\n",
      "File \u001b[0;32m/opt/anaconda3/lib/python3.12/site-packages/seaborn/matrix.py:202\u001b[0m, in \u001b[0;36m_HeatMapper._determine_cmap_params\u001b[0;34m(self, plot_data, vmin, vmax, cmap, center, robust)\u001b[0m\n\u001b[1;32m    200\u001b[0m         vmin \u001b[38;5;241m=\u001b[39m np\u001b[38;5;241m.\u001b[39mnanpercentile(calc_data, \u001b[38;5;241m2\u001b[39m)\n\u001b[1;32m    201\u001b[0m     \u001b[38;5;28;01melse\u001b[39;00m:\n\u001b[0;32m--> 202\u001b[0m         vmin \u001b[38;5;241m=\u001b[39m np\u001b[38;5;241m.\u001b[39mnanmin(calc_data)\n\u001b[1;32m    203\u001b[0m \u001b[38;5;28;01mif\u001b[39;00m vmax \u001b[38;5;129;01mis\u001b[39;00m \u001b[38;5;28;01mNone\u001b[39;00m:\n\u001b[1;32m    204\u001b[0m     \u001b[38;5;28;01mif\u001b[39;00m robust:\n",
      "File \u001b[0;32m/opt/anaconda3/lib/python3.12/site-packages/numpy/lib/nanfunctions.py:343\u001b[0m, in \u001b[0;36mnanmin\u001b[0;34m(a, axis, out, keepdims, initial, where)\u001b[0m\n\u001b[1;32m    338\u001b[0m     kwargs[\u001b[38;5;124m'\u001b[39m\u001b[38;5;124mwhere\u001b[39m\u001b[38;5;124m'\u001b[39m] \u001b[38;5;241m=\u001b[39m where\n\u001b[1;32m    340\u001b[0m \u001b[38;5;28;01mif\u001b[39;00m \u001b[38;5;28mtype\u001b[39m(a) \u001b[38;5;129;01mis\u001b[39;00m np\u001b[38;5;241m.\u001b[39mndarray \u001b[38;5;129;01mand\u001b[39;00m a\u001b[38;5;241m.\u001b[39mdtype \u001b[38;5;241m!=\u001b[39m np\u001b[38;5;241m.\u001b[39mobject_:\n\u001b[1;32m    341\u001b[0m     \u001b[38;5;66;03m# Fast, but not safe for subclasses of ndarray, or object arrays,\u001b[39;00m\n\u001b[1;32m    342\u001b[0m     \u001b[38;5;66;03m# which do not implement isnan (gh-9009), or fmin correctly (gh-8975)\u001b[39;00m\n\u001b[0;32m--> 343\u001b[0m     res \u001b[38;5;241m=\u001b[39m np\u001b[38;5;241m.\u001b[39mfmin\u001b[38;5;241m.\u001b[39mreduce(a, axis\u001b[38;5;241m=\u001b[39maxis, out\u001b[38;5;241m=\u001b[39mout, \u001b[38;5;241m*\u001b[39m\u001b[38;5;241m*\u001b[39mkwargs)\n\u001b[1;32m    344\u001b[0m     \u001b[38;5;28;01mif\u001b[39;00m np\u001b[38;5;241m.\u001b[39misnan(res)\u001b[38;5;241m.\u001b[39many():\n\u001b[1;32m    345\u001b[0m         warnings\u001b[38;5;241m.\u001b[39mwarn(\u001b[38;5;124m\"\u001b[39m\u001b[38;5;124mAll-NaN slice encountered\u001b[39m\u001b[38;5;124m\"\u001b[39m, \u001b[38;5;167;01mRuntimeWarning\u001b[39;00m,\n\u001b[1;32m    346\u001b[0m                       stacklevel\u001b[38;5;241m=\u001b[39m\u001b[38;5;241m2\u001b[39m)\n",
      "\u001b[0;31mValueError\u001b[0m: zero-size array to reduction operation fmin which has no identity"
     ]
    },
    {
     "data": {
      "text/plain": [
       "<Figure size 1200x1000 with 0 Axes>"
      ]
     },
     "metadata": {},
     "output_type": "display_data"
    }
   ],
   "source": [
    "import matplotlib.pyplot as plt\n",
    "import seaborn as sns\n",
    "\n",
    "# Nur signifikante, nicht-intercept Faktoren\n",
    "signifikant_df = ergebnisse_df[\n",
    "    (ergebnisse_df['p-Wert'] < 0.05) & \n",
    "    (ergebnisse_df['Faktor'] != 'Intercept')\n",
    "]\n",
    "\n",
    "# Pivotieren: Zeilen = Faktoren, Spalten = Parteien, Werte = Koeffizienten\n",
    "heatmap_df = signifikant_df.pivot_table(\n",
    "    index='Faktor',\n",
    "    columns='Partei',\n",
    "    values='Koeffizient',\n",
    "    aggfunc='first'  # falls doppelt vorhanden\n",
    ")\n",
    "\n",
    "# Plot\n",
    "plt.figure(figsize=(12, 10))\n",
    "sns.heatmap(heatmap_df, annot=True, cmap='coolwarm', center=0, linewidths=0.5, fmt=\".2f\")\n",
    "\n",
    "# Verständliche Achsen & Titel\n",
    "plt.title('Einfluss signifikanter Strukturmerkmale auf Wahlergebnisse der Parteien', fontsize=14)\n",
    "plt.xlabel('Partei', fontsize=12)\n",
    "plt.ylabel('Strukturfaktor', fontsize=12)\n",
    "plt.tight_layout()\n",
    "plt.show()"
   ]
  },
  {
   "cell_type": "code",
   "execution_count": null,
   "id": "6bcc31d9-4fcb-4715-8f6b-6178ebe8bd5f",
   "metadata": {},
   "outputs": [],
   "source": []
  },
  {
   "cell_type": "code",
   "execution_count": null,
   "id": "d62954d6-e517-4ee7-b7dc-1bef26f2a75a",
   "metadata": {},
   "outputs": [],
   "source": []
  },
  {
   "cell_type": "code",
   "execution_count": null,
   "id": "9f73254c-ba3d-487e-846c-140882faf570",
   "metadata": {},
   "outputs": [],
   "source": []
  },
  {
   "cell_type": "code",
   "execution_count": null,
   "id": "22ed555e-565a-4605-80e9-e4f924439ccf",
   "metadata": {},
   "outputs": [],
   "source": []
  },
  {
   "cell_type": "code",
   "execution_count": null,
   "id": "c3bc2722-d70e-4e45-8e6b-cd4fcdf16d4c",
   "metadata": {},
   "outputs": [],
   "source": []
  },
  {
   "cell_type": "code",
   "execution_count": 89,
   "id": "be1b52f3-92f5-41d2-bb95-ae59259c509d",
   "metadata": {},
   "outputs": [
    {
     "name": "stdout",
     "output_type": "stream",
     "text": [
      "Spalte nicht gefunden: Grüne_Zweitstimmen_percent\n"
     ]
    }
   ],
   "source": [
    "# Numerische Strukturmerkmale als Features (X)\n",
    "X = struktur_df.select_dtypes(include=[np.number])\n",
    "from sklearn.preprocessing import StandardScaler\n",
    "scaler = StandardScaler()\n",
    "X_scaled = scaler.fit_transform(X)\n",
    "X_const = sm.add_constant(X_scaled)\n",
    "\n",
    "# Liste der Zielvariablen (Prozentuale Zweitstimmen)\n",
    "zielspalten = [\n",
    "    'CDU/CSU_Zweitstimmen_percent',\n",
    "    'SPD_Zweitstimmen_percent',\n",
    "    'Grüne_Zweitstimmen_percent',\n",
    "    'AfD_Zweitstimmen_percent',\n",
    "    'Die Linke_Zweitstimmen_percent',\n",
    "    'BSW_Zweitstimmen_percent',\n",
    "    'FDP_Zweitstimmen_percent'\n",
    "]\n",
    "\n",
    "# Ergebnisse sammeln\n",
    "alle_ergebnisse = []\n",
    "\n",
    "for spalte in zielspalten:\n",
    "    if spalte in wahl_df.columns:\n",
    "        y = merged_df[spalte]\n",
    "        model = sm.OLS(y, X_const).fit()\n",
    "        df = pd.DataFrame({\n",
    "            'Partei': spalte.replace('_Zweitstimmen_percent', ''),\n",
    "            'Faktor': ['Intercept'] + list(X.columns),\n",
    "            'Koeffizient': model.params,\n",
    "            'p-Wert': model.pvalues\n",
    "        })\n",
    "        alle_ergebnisse.append(df)\n",
    "    else:\n",
    "        print(f\"Spalte nicht gefunden: {spalte}\")\n",
    "\n",
    "# Gesamtergebnis zusammenführen und exportieren\n",
    "ergebnisse_df = pd.concat(alle_ergebnisse)\n",
    "ergebnisse_df.to_csv('wahlanalyse_regressionsergebnisse.csv', index=False)"
   ]
  },
  {
   "cell_type": "code",
   "execution_count": 49,
   "id": "3f31b665-d71f-477c-8cec-e19be3e85056",
   "metadata": {},
   "outputs": [
    {
     "name": "stdout",
     "output_type": "stream",
     "text": [
      "['Bundesland', 'Anzahl Gemeinden', 'FlŠche km2', 'Bevšlkerung in Tsd', 'davon Deutsche in Tsd', 'AuslŠnder*innenanteil', 'Bevšlkerungsdichte je km2', 'Geburtensaldo', 'Wanderungssaldo', 'Alter unter 16', 'Alter 16-17', 'Alter 18-24', 'Alter 25-34', 'Alter 35-59', 'Alter 60-74', 'Alter Ÿber 75', 'BodenflŠche Siedlung und Verkehr', 'BodenflŠche Vegetation & GewŠsser', 'Fertiggestellte Wohnungen 2021 je Tsd Einwohner*innen', 'Bestand an Wohnungen 2021 je Tsd Einwohner*innen', 'WohnflŠche je Wohnnung 2021', 'WohnflŠche 2021 je Tsd Einwohner*innen', 'PKW insgesamt je Tsd Einwohner*innen', 'PKW Elektro oder Hybrid', 'Unternehmen 2021 je Tsd Einwohner*innen', 'Handwerksunternehmen 2021 je Tsd Einwohner*innen', 'SchulabgŠnger*innen beruflicher Schulen 2022 je Tsd Einwohner*innen', 'SchulabgŠnger*innen insgesamt ohne Externe je Tsd Einwohner*innen', 'SchulabgŠnger*innen ohne Hauptschulabschluss', 'SchulabgŠnger*innen mit Hauptschulabschluss', 'SchulabgŠnger*innen mit Realschulabschluss', 'SchulabgŠnger*innen mit allgemeiner und Fachhochschulreife', 'Quote betreute Kinder unter 3 Jahre', 'Quote betreute Kinder 3-5 Jahre', 'VerfŸgbares Einkommen der privaten Haushalte 2021 EUR je Einwohner*in', 'BIP je Einwohner*in 2021', 'Sozialversicherungspflichtig je Tsd Einwohner*innen', 'Anteil Sozialversicherungspflichtiger in Land-, Forstwirtschaft & Fisherei', 'Anteil Sozialversicherungspflichtiger im produzierenden Gewerbe', 'Anteil Sozialversicherungspflichtiger im Handel, Gastgewerbe, Verkehr', 'Anteil Sozialversicherungspflichtige šffentliche und private Dienstleister', 'Anteil Sozialversicherungspflichtige Ÿbrige Dienstleister', 'EmpfŠnger*innen Leistungen SGB II je Tsd Einwohner*innen', 'Anteil SGB II EmpfŠnger*innen nichterwerbsfŠhige HilfebedŸrftige', 'Anteil SGB II EmpfŠnger*innen AuslŠnder*innen', 'Arbeitslosenquote insgesamt', 'Arbeitslosenquote MŠnner', 'Arbeitslosenquote Frauen', 'Arbeitslosenquote 15-24', 'Arbeitslosenquote 55-64']\n",
      "['Bundesland', 'Wahlberechtigte', 'WŠhlende_total', 'WŠhlende_percent', 'UngŸltige_Erststimmen_total', 'UngŸltige_Erststimmen_percent', 'UngŸltige_Zweitstimmen_total', 'UngŸltige_Zweitstimmen_percent', 'GŸltige_Erststimmen_total', 'GŸltige_Erststimmen_percent', 'GŸltige_Zweitstimmen_total', 'GŸltige_Zweitstimmen_percent', 'CDU/CSU_Erststimmen_total', 'CDU/CSU_Erststimmen_percent', 'CDU/CSU_Zweitstimmen_total', 'CDU/CSU_Zweitstimmen_percent', 'SPD_Erststimmen_total', 'SPD_Erststimmen_percent', 'SPD_Zweitstimmen_total', 'SPD_Zweitstimmen_percent', 'GrŸne_Erststimmen_total', 'GrŸne_Erststimmen_percent', 'GrŸne_Zweitstimmen_total', 'GrŸne_Zweitstimmen_percent', 'AfD_Erststimmen_total', 'AfD_Erststimmen_percent', 'AfD_Zweitstimmen_total', 'AfD_Zweitstimmen_percent', 'Die Linke_Erststimmen_total', 'Die Linke_Erststimmen_percent', 'Die Linke_Zweitstimmen_total', 'Die Linke_Zweitstimmen_percent', 'BSW_Erststimmen_total', 'BSW_Erststimmen_percent', 'BSW_Zweitstimmen_total', 'BSW_Zweitstimmen_percent', 'FDP_Erststimmen_total', 'FDP_Erststimmen_percent', 'FDP_Zweitstimmen_total', 'FDP_Zweitstimmen_percent']\n"
     ]
    }
   ],
   "source": [
    "print(struktur_df.columns.tolist())\n",
    "print(wahl_df.columns.tolist())"
   ]
  },
  {
   "cell_type": "code",
   "execution_count": null,
   "id": "fc405996-343a-4703-bf85-360392252c3b",
   "metadata": {},
   "outputs": [],
   "source": []
  },
  {
   "cell_type": "code",
   "execution_count": 21,
   "id": "02185e49-059d-464a-82a5-7843ea931198",
   "metadata": {},
   "outputs": [
    {
     "data": {
      "text/html": [
       "<div>\n",
       "<style scoped>\n",
       "    .dataframe tbody tr th:only-of-type {\n",
       "        vertical-align: middle;\n",
       "    }\n",
       "\n",
       "    .dataframe tbody tr th {\n",
       "        vertical-align: top;\n",
       "    }\n",
       "\n",
       "    .dataframe thead th {\n",
       "        text-align: right;\n",
       "    }\n",
       "</style>\n",
       "<table border=\"1\" class=\"dataframe\">\n",
       "  <thead>\n",
       "    <tr style=\"text-align: right;\">\n",
       "      <th></th>\n",
       "      <th>Bundesland</th>\n",
       "      <th>Anzahl Gemeinden</th>\n",
       "      <th>Flche km2</th>\n",
       "      <th>Bevlkerung in Tsd</th>\n",
       "      <th>davon Deutsche in Tsd</th>\n",
       "      <th>Auslnder*innenanteil</th>\n",
       "      <th>Bevlkerungsdichte je km2</th>\n",
       "      <th>Geburtensaldo</th>\n",
       "      <th>Wanderungssaldo</th>\n",
       "      <th>Alter unter 16</th>\n",
       "      <th>...</th>\n",
       "      <th>Anteil Sozialversicherungspflichtige ffentliche und private Dienstleister</th>\n",
       "      <th>Anteil Sozialversicherungspflichtige brige Dienstleister</th>\n",
       "      <th>Empfnger*innen Leistungen SGB II je Tsd Einwohner*innen</th>\n",
       "      <th>Anteil SGB II Empfnger*innen nichterwerbsfhige Hilfebedrftige</th>\n",
       "      <th>Anteil SGB II Empfnger*innen Auslnder*innen</th>\n",
       "      <th>Arbeitslosenquote insgesamt</th>\n",
       "      <th>Arbeitslosenquote Mnner</th>\n",
       "      <th>Arbeitslosenquote Frauen</th>\n",
       "      <th>Arbeitslosenquote 15-24</th>\n",
       "      <th>Arbeitslosenquote 55-64</th>\n",
       "    </tr>\n",
       "  </thead>\n",
       "  <tbody>\n",
       "    <tr>\n",
       "      <th>0</th>\n",
       "      <td>Baden_Wuerttemberg</td>\n",
       "      <td>1101</td>\n",
       "      <td>35747.8</td>\n",
       "      <td>11280.3</td>\n",
       "      <td>9268.0</td>\n",
       "      <td>17.8</td>\n",
       "      <td>315.6</td>\n",
       "      <td>1.8</td>\n",
       "      <td>15.8</td>\n",
       "      <td>15.4</td>\n",
       "      <td>...</td>\n",
       "      <td>20.0</td>\n",
       "      <td>25.1</td>\n",
       "      <td>45.3</td>\n",
       "      <td>28.1</td>\n",
       "      <td>55.6</td>\n",
       "      <td>3.9</td>\n",
       "      <td>3.9</td>\n",
       "      <td>3.9</td>\n",
       "      <td>3.1</td>\n",
       "      <td>4.4</td>\n",
       "    </tr>\n",
       "    <tr>\n",
       "      <th>1</th>\n",
       "      <td>Nordrhein_Westfalen</td>\n",
       "      <td>396</td>\n",
       "      <td>34112.5</td>\n",
       "      <td>18139.1</td>\n",
       "      <td>15310.7</td>\n",
       "      <td>15.6</td>\n",
       "      <td>531.7</td>\n",
       "      <td>3.8</td>\n",
       "      <td>15.6</td>\n",
       "      <td>15.3</td>\n",
       "      <td>...</td>\n",
       "      <td>22.0</td>\n",
       "      <td>30.0</td>\n",
       "      <td>90.9</td>\n",
       "      <td>27.5</td>\n",
       "      <td>47.5</td>\n",
       "      <td>7.2</td>\n",
       "      <td>7.3</td>\n",
       "      <td>7.1</td>\n",
       "      <td>5.6</td>\n",
       "      <td>7.2</td>\n",
       "    </tr>\n",
       "    <tr>\n",
       "      <th>2</th>\n",
       "      <td>Sachsen_Anhalt</td>\n",
       "      <td>218</td>\n",
       "      <td>20464.1</td>\n",
       "      <td>2186.6</td>\n",
       "      <td>2025.7</td>\n",
       "      <td>7.4</td>\n",
       "      <td>106.9</td>\n",
       "      <td>10.4</td>\n",
       "      <td>18.5</td>\n",
       "      <td>13.6</td>\n",
       "      <td>...</td>\n",
       "      <td>15.7</td>\n",
       "      <td>33.5</td>\n",
       "      <td>83.3</td>\n",
       "      <td>22.9</td>\n",
       "      <td>30.1</td>\n",
       "      <td>7.3</td>\n",
       "      <td>7.7</td>\n",
       "      <td>6.9</td>\n",
       "      <td>7.8</td>\n",
       "      <td>7.3</td>\n",
       "    </tr>\n",
       "    <tr>\n",
       "      <th>3</th>\n",
       "      <td>Berlin</td>\n",
       "      <td>1</td>\n",
       "      <td>891.1</td>\n",
       "      <td>3755.3</td>\n",
       "      <td>2920.9</td>\n",
       "      <td>22.2</td>\n",
       "      <td>4214.1</td>\n",
       "      <td>1.0</td>\n",
       "      <td>22.5</td>\n",
       "      <td>15.2</td>\n",
       "      <td>...</td>\n",
       "      <td>33.3</td>\n",
       "      <td>33.7</td>\n",
       "      <td>125.5</td>\n",
       "      <td>26.6</td>\n",
       "      <td>44.6</td>\n",
       "      <td>9.3</td>\n",
       "      <td>9.5</td>\n",
       "      <td>9.1</td>\n",
       "      <td>9.0</td>\n",
       "      <td>8.6</td>\n",
       "    </tr>\n",
       "    <tr>\n",
       "      <th>4</th>\n",
       "      <td>Schleswig_Holstein</td>\n",
       "      <td>1104</td>\n",
       "      <td>15804.3</td>\n",
       "      <td>2953.3</td>\n",
       "      <td>2653.5</td>\n",
       "      <td>10.2</td>\n",
       "      <td>186.9</td>\n",
       "      <td>5.7</td>\n",
       "      <td>16.5</td>\n",
       "      <td>14.6</td>\n",
       "      <td>...</td>\n",
       "      <td>17.2</td>\n",
       "      <td>32.1</td>\n",
       "      <td>69.5</td>\n",
       "      <td>27.0</td>\n",
       "      <td>42.5</td>\n",
       "      <td>5.4</td>\n",
       "      <td>5.7</td>\n",
       "      <td>5.1</td>\n",
       "      <td>5.1</td>\n",
       "      <td>5.3</td>\n",
       "    </tr>\n",
       "  </tbody>\n",
       "</table>\n",
       "<p>5 rows × 50 columns</p>\n",
       "</div>"
      ],
      "text/plain": [
       "            Bundesland  Anzahl Gemeinden  Flche km2  Bevlkerung in Tsd  \\\n",
       "0   Baden_Wuerttemberg              1101     35747.8             11280.3   \n",
       "1  Nordrhein_Westfalen               396     34112.5             18139.1   \n",
       "2       Sachsen_Anhalt               218     20464.1              2186.6   \n",
       "3               Berlin                 1       891.1              3755.3   \n",
       "4   Schleswig_Holstein              1104     15804.3              2953.3   \n",
       "\n",
       "   davon Deutsche in Tsd  Auslnder*innenanteil  Bevlkerungsdichte je km2  \\\n",
       "0                 9268.0                   17.8                      315.6   \n",
       "1                15310.7                   15.6                      531.7   \n",
       "2                 2025.7                    7.4                      106.9   \n",
       "3                 2920.9                   22.2                     4214.1   \n",
       "4                 2653.5                   10.2                      186.9   \n",
       "\n",
       "   Geburtensaldo  Wanderungssaldo  Alter unter 16  ...  \\\n",
       "0            1.8             15.8            15.4  ...   \n",
       "1            3.8             15.6            15.3  ...   \n",
       "2           10.4             18.5            13.6  ...   \n",
       "3            1.0             22.5            15.2  ...   \n",
       "4            5.7             16.5            14.6  ...   \n",
       "\n",
       "   Anteil Sozialversicherungspflichtige ffentliche und private Dienstleister  \\\n",
       "0                                               20.0                            \n",
       "1                                               22.0                            \n",
       "2                                               15.7                            \n",
       "3                                               33.3                            \n",
       "4                                               17.2                            \n",
       "\n",
       "   Anteil Sozialversicherungspflichtige brige Dienstleister  \\\n",
       "0                                               25.1           \n",
       "1                                               30.0           \n",
       "2                                               33.5           \n",
       "3                                               33.7           \n",
       "4                                               32.1           \n",
       "\n",
       "   Empfnger*innen Leistungen SGB II je Tsd Einwohner*innen  \\\n",
       "0                                               45.3          \n",
       "1                                               90.9          \n",
       "2                                               83.3          \n",
       "3                                              125.5          \n",
       "4                                               69.5          \n",
       "\n",
       "   Anteil SGB II Empfnger*innen nichterwerbsfhige Hilfebedrftige  \\\n",
       "0                                               28.1                  \n",
       "1                                               27.5                  \n",
       "2                                               22.9                  \n",
       "3                                               26.6                  \n",
       "4                                               27.0                  \n",
       "\n",
       "   Anteil SGB II Empfnger*innen Auslnder*innen  Arbeitslosenquote insgesamt  \\\n",
       "0                                           55.6                          3.9   \n",
       "1                                           47.5                          7.2   \n",
       "2                                           30.1                          7.3   \n",
       "3                                           44.6                          9.3   \n",
       "4                                           42.5                          5.4   \n",
       "\n",
       "   Arbeitslosenquote Mnner  Arbeitslosenquote Frauen  \\\n",
       "0                       3.9                       3.9   \n",
       "1                       7.3                       7.1   \n",
       "2                       7.7                       6.9   \n",
       "3                       9.5                       9.1   \n",
       "4                       5.7                       5.1   \n",
       "\n",
       "   Arbeitslosenquote 15-24  Arbeitslosenquote 55-64  \n",
       "0                      3.1                      4.4  \n",
       "1                      5.6                      7.2  \n",
       "2                      7.8                      7.3  \n",
       "3                      9.0                      8.6  \n",
       "4                      5.1                      5.3  \n",
       "\n",
       "[5 rows x 50 columns]"
      ]
     },
     "execution_count": 21,
     "metadata": {},
     "output_type": "execute_result"
    }
   ],
   "source": [
    "struktur_df.head()"
   ]
  },
  {
   "cell_type": "code",
   "execution_count": 25,
   "id": "81cbd50b-3b78-4192-a9a7-c366fedb802f",
   "metadata": {},
   "outputs": [
    {
     "name": "stdout",
     "output_type": "stream",
     "text": [
      "Index(['Bundesland', 'Anzahl Gemeinden', 'Flche km2', 'Bevlkerung in Tsd',\n",
      "       'davon Deutsche in Tsd', 'Auslnder*innenanteil',\n",
      "       'Bevlkerungsdichte je km2', 'Geburtensaldo', 'Wanderungssaldo',\n",
      "       'Alter unter 16', 'Alter 16-17', 'Alter 18-24', 'Alter 25-34',\n",
      "       'Alter 35-59', 'Alter 60-74', 'Alter ber 75',\n",
      "       'Bodenflche Siedlung und Verkehr', 'Bodenflche Vegetation & Gewsser',\n",
      "       'Fertiggestellte Wohnungen 2021 je Tsd Einwohner*innen',\n",
      "       'Bestand an Wohnungen 2021 je Tsd Einwohner*innen',\n",
      "       'Wohnflche je Wohnnung 2021', 'Wohnflche 2021 je Tsd Einwohner*innen',\n",
      "       'PKW insgesamt je Tsd Einwohner*innen', 'PKW Elektro oder Hybrid',\n",
      "       'Unternehmen 2021 je Tsd Einwohner*innen',\n",
      "       'Handwerksunternehmen 2021 je Tsd Einwohner*innen',\n",
      "       'Schulabgnger*innen beruflicher Schulen 2022 je Tsd Einwohner*innen',\n",
      "       'Schulabgnger*innen insgesamt ohne Externe je Tsd Einwohner*innen',\n",
      "       'Schulabgnger*innen ohne Hauptschulabschluss',\n",
      "       'Schulabgnger*innen mit Hauptschulabschluss',\n",
      "       'Schulabgnger*innen mit Realschulabschluss',\n",
      "       'Schulabgnger*innen mit allgemeiner und Fachhochschulreife',\n",
      "       'Quote betreute Kinder unter 3 Jahre',\n",
      "       'Quote betreute Kinder 3-5 Jahre',\n",
      "       'Verfgbares Einkommen der privaten Haushalte 2021 EUR je Einwohner*in',\n",
      "       'BIP je Einwohner*in 2021',\n",
      "       'Sozialversicherungspflichtig je Tsd Einwohner*innen',\n",
      "       'Anteil Sozialversicherungspflichtiger in Land-, Forstwirtschaft & Fisherei',\n",
      "       'Anteil Sozialversicherungspflichtiger im produzierenden Gewerbe',\n",
      "       'Anteil Sozialversicherungspflichtiger im Handel, Gastgewerbe, Verkehr',\n",
      "       'Anteil Sozialversicherungspflichtige ffentliche und private Dienstleister',\n",
      "       'Anteil Sozialversicherungspflichtige brige Dienstleister',\n",
      "       'Empfnger*innen Leistungen SGB II je Tsd Einwohner*innen',\n",
      "       'Anteil SGB II Empfnger*innen nichterwerbsfhige Hilfebedrftige',\n",
      "       'Anteil SGB II Empfnger*innen Auslnder*innen',\n",
      "       'Arbeitslosenquote insgesamt', 'Arbeitslosenquote Mnner',\n",
      "       'Arbeitslosenquote Frauen', 'Arbeitslosenquote 15-24',\n",
      "       'Arbeitslosenquote 55-64'],\n",
      "      dtype='object')\n"
     ]
    }
   ],
   "source": [
    "# Spaltenüberschriften Strukturdaten ansehen\n",
    "print(struktur_df.columns)"
   ]
  },
  {
   "cell_type": "code",
   "execution_count": 23,
   "id": "5d62bf52-eaeb-49d3-a3be-84ce22ab4085",
   "metadata": {},
   "outputs": [
    {
     "name": "stdout",
     "output_type": "stream",
     "text": [
      "Index(['Bundesland', 'Wahlberechtigte', 'Whlende_total', 'Whlende_percent',\n",
      "       'Ungltige_Erststimmen_total', 'Ungltige_Erststimmen_percent',\n",
      "       'Ungltige_Zweitstimmen_total', 'Ungltige_Zweitstimmen_percent',\n",
      "       'Gltige_Erststimmen_total', 'Gltige_Erststimmen_percent',\n",
      "       'Gltige_Zweitstimmen_total', 'Gltige_Zweitstimmen_percent',\n",
      "       'CDU/CSU_Erststimmen_total', 'CDU/CSU_Erststimmen_percent',\n",
      "       'CDU/CSU_Zweitstimmen_total', 'CDU/CSU_Zweitstimmen_percent',\n",
      "       'SPD_Erststimmen_total', 'SPD_Erststimmen_percent',\n",
      "       'SPD_Zweitstimmen_total', 'SPD_Zweitstimmen_percent',\n",
      "       'Grne_Erststimmen_total', 'Grne_Erststimmen_percent',\n",
      "       'Grne_Zweitstimmen_total', 'Grne_Zweitstimmen_percent',\n",
      "       'AfD_Erststimmen_total', 'AfD_Erststimmen_percent',\n",
      "       'AfD_Zweitstimmen_total', 'AfD_Zweitstimmen_percent',\n",
      "       'Die Linke_Erststimmen_total', 'Die Linke_Erststimmen_percent',\n",
      "       'Die Linke_Zweitstimmen_total', 'Die Linke_Zweitstimmen_percent',\n",
      "       'BSW_Erststimmen_total', 'BSW_Erststimmen_percent',\n",
      "       'BSW_Zweitstimmen_total', 'BSW_Zweitstimmen_percent',\n",
      "       'FDP_Erststimmen_total', 'FDP_Erststimmen_percent',\n",
      "       'FDP_Zweitstimmen_total', 'FDP_Zweitstimmen_percent'],\n",
      "      dtype='object')\n"
     ]
    }
   ],
   "source": [
    "# Spaltenüberschriften Wahlergebnisse ansehen\n",
    "print(wahl_df.columns)"
   ]
  },
  {
   "cell_type": "code",
   "execution_count": 27,
   "id": "bd6e6993-c237-4c10-9b3d-822b9e6da86c",
   "metadata": {},
   "outputs": [
    {
     "name": "stdout",
     "output_type": "stream",
     "text": [
      "<class 'pandas.core.frame.DataFrame'>\n",
      "RangeIndex: 16 entries, 0 to 15\n",
      "Data columns (total 40 columns):\n",
      " #   Column                          Non-Null Count  Dtype  \n",
      "---  ------                          --------------  -----  \n",
      " 0   Bundesland                      16 non-null     object \n",
      " 1   Wahlberechtigte                 16 non-null     int64  \n",
      " 2   Whlende_total                  16 non-null     int64  \n",
      " 3   Whlende_percent                16 non-null     float64\n",
      " 4   Ungltige_Erststimmen_total     16 non-null     int64  \n",
      " 5   Ungltige_Erststimmen_percent   16 non-null     float64\n",
      " 6   Ungltige_Zweitstimmen_total    16 non-null     int64  \n",
      " 7   Ungltige_Zweitstimmen_percent  16 non-null     float64\n",
      " 8   Gltige_Erststimmen_total       16 non-null     int64  \n",
      " 9   Gltige_Erststimmen_percent     16 non-null     float64\n",
      " 10  Gltige_Zweitstimmen_total      16 non-null     int64  \n",
      " 11  Gltige_Zweitstimmen_percent    16 non-null     float64\n",
      " 12  CDU/CSU_Erststimmen_total       16 non-null     int64  \n",
      " 13  CDU/CSU_Erststimmen_percent     16 non-null     float64\n",
      " 14  CDU/CSU_Zweitstimmen_total      16 non-null     int64  \n",
      " 15  CDU/CSU_Zweitstimmen_percent    16 non-null     float64\n",
      " 16  SPD_Erststimmen_total           16 non-null     int64  \n",
      " 17  SPD_Erststimmen_percent         16 non-null     float64\n",
      " 18  SPD_Zweitstimmen_total          16 non-null     int64  \n",
      " 19  SPD_Zweitstimmen_percent        16 non-null     float64\n",
      " 20  Grne_Erststimmen_total         16 non-null     int64  \n",
      " 21  Grne_Erststimmen_percent       16 non-null     float64\n",
      " 22  Grne_Zweitstimmen_total        16 non-null     int64  \n",
      " 23  Grne_Zweitstimmen_percent      16 non-null     float64\n",
      " 24  AfD_Erststimmen_total           16 non-null     int64  \n",
      " 25  AfD_Erststimmen_percent         16 non-null     float64\n",
      " 26  AfD_Zweitstimmen_total          16 non-null     int64  \n",
      " 27  AfD_Zweitstimmen_percent        16 non-null     float64\n",
      " 28  Die Linke_Erststimmen_total     16 non-null     int64  \n",
      " 29  Die Linke_Erststimmen_percent   16 non-null     float64\n",
      " 30  Die Linke_Zweitstimmen_total    16 non-null     int64  \n",
      " 31  Die Linke_Zweitstimmen_percent  16 non-null     float64\n",
      " 32  BSW_Erststimmen_total           6 non-null      float64\n",
      " 33  BSW_Erststimmen_percent         6 non-null      float64\n",
      " 34  BSW_Zweitstimmen_total          16 non-null     int64  \n",
      " 35  BSW_Zweitstimmen_percent        16 non-null     float64\n",
      " 36  FDP_Erststimmen_total           16 non-null     int64  \n",
      " 37  FDP_Erststimmen_percent         16 non-null     float64\n",
      " 38  FDP_Zweitstimmen_total          16 non-null     int64  \n",
      " 39  FDP_Zweitstimmen_percent        16 non-null     float64\n",
      "dtypes: float64(20), int64(19), object(1)\n",
      "memory usage: 5.1+ KB\n"
     ]
    }
   ],
   "source": [
    "wahl_df.info()"
   ]
  },
  {
   "cell_type": "code",
   "execution_count": 29,
   "id": "9a9ea5bb-2a82-46dc-a8d1-00c9bf7a2d2b",
   "metadata": {},
   "outputs": [],
   "source": [
    "zielspalten = [\n",
    "    'CDU/CSU_Zweitstimmen_percent',\n",
    "    'SPD_Zweitstimmen_percent',\n",
    "    'Grüne_Zweitstimmen_percent',\n",
    "    'AfD_Zweitstimmen_percent',\n",
    "    'Die Linke_Zweitstimmen_percent',\n",
    "    'BSW_Zweitstimmen_percent',\n",
    "    'FDP_Zweitstimmen_percent'\n",
    "]"
   ]
  },
  {
   "cell_type": "code",
   "execution_count": null,
   "id": "b948a3ab-c149-4393-9038-10da7e7792c7",
   "metadata": {},
   "outputs": [],
   "source": []
  }
 ],
 "metadata": {
  "kernelspec": {
   "display_name": "Python [conda env:base] *",
   "language": "python",
   "name": "conda-base-py"
  },
  "language_info": {
   "codemirror_mode": {
    "name": "ipython",
    "version": 3
   },
   "file_extension": ".py",
   "mimetype": "text/x-python",
   "name": "python",
   "nbconvert_exporter": "python",
   "pygments_lexer": "ipython3",
   "version": "3.12.2"
  }
 },
 "nbformat": 4,
 "nbformat_minor": 5
}
